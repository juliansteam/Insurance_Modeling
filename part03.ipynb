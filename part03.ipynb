{
 "cells": [
  {
   "cell_type": "markdown",
   "metadata": {},
   "source": [
    "# Part 3: Mixed Effects Models\n",
    "<b>Author</b>: Sterling Cutler\n",
    "<br>\n",
    "<b>Date</b>: March 22, 2018\n",
    "\n",
    "In the previous sections, we removed the claim number before fitting out data to the linear model. In doing so, we treated the dataset as a population when those select claims were truly a subset (sample) of the population. Fitting a model to a population of insurance data is most often infeasible and inefficient. Fitting a model to excessively large data can also lead to the problem of data dredging (or p-hacking), in which all the explanatory variables used in the model return significant when they often wouldn't be in practice.\n",
    "\n",
    "When dealing with a variable that comes from a probability distribution, in which there are infinite possible values, we are dealing with a random variable. Random variables have their own impact on model residuals than fixed-effect variables, so it useful to use a model that can capture these differences. Mixed effects models allow us to model data with fixed and random variables. We could use a mixed model on our previous dataset and specify claim number as a random variable, but instead let's focus on a more practical demonstration of how an insurance analyst may look at certain locations."
   ]
  },
  {
   "cell_type": "code",
   "execution_count": 1,
   "metadata": {},
   "outputs": [
    {
     "name": "stdout",
     "output_type": "stream",
     "text": [
      "'data.frame':\t67856 obs. of  11 variables:\n",
      " $ veh_value: num  1.06 1.03 3.26 4.14 0.72 2.01 1.6 1.47 0.52 0.38 ...\n",
      " $ exposure : num  0.304 0.649 0.569 0.318 0.649 ...\n",
      " $ clm      : int  0 0 0 0 0 0 0 0 0 0 ...\n",
      " $ numclaims: int  0 0 0 0 0 0 0 0 0 0 ...\n",
      " $ claimcst0: num  0 0 0 0 0 0 0 0 0 0 ...\n",
      " $ veh_body : Factor w/ 13 levels \"BUS\",\"CONVT\",..: 4 4 13 11 4 5 8 4 4 4 ...\n",
      " $ veh_age  : int  3 2 2 2 4 3 3 2 4 4 ...\n",
      " $ gender   : Factor w/ 2 levels \"F\",\"M\": 1 1 1 1 1 2 2 2 1 1 ...\n",
      " $ area     : Factor w/ 6 levels \"A\",\"B\",\"C\",\"D\",..: 3 1 5 4 3 3 1 2 1 2 ...\n",
      " $ agecat   : int  2 4 2 2 2 4 4 6 3 4 ...\n",
      " $ X_OBSTAT_: Factor w/ 1 level \"01101    0    0    0\": 1 1 1 1 1 1 1 1 1 1 ...\n"
     ]
    },
    {
     "data": {
      "text/html": [],
      "text/latex": [],
      "text/markdown": [],
      "text/plain": [
       "character(0)"
      ]
     },
     "metadata": {},
     "output_type": "display_data"
    },
    {
     "data": {
      "text/html": [
       "<table>\n",
       "<thead><tr><th scope=col>veh_value</th><th scope=col>exposure</th><th scope=col>clm</th><th scope=col>numclaims</th><th scope=col>claimcst0</th><th scope=col>veh_body</th><th scope=col>veh_age</th><th scope=col>gender</th><th scope=col>area</th><th scope=col>agecat</th><th scope=col>X_OBSTAT_</th></tr></thead>\n",
       "<tbody>\n",
       "\t<tr><td>1.06                </td><td>0.3039014           </td><td>0                   </td><td>0                   </td><td>0                   </td><td>HBACK               </td><td>3                   </td><td>F                   </td><td>C                   </td><td>2                   </td><td>01101    0    0    0</td></tr>\n",
       "\t<tr><td>1.03                </td><td>0.6488706           </td><td>0                   </td><td>0                   </td><td>0                   </td><td>HBACK               </td><td>2                   </td><td>F                   </td><td>A                   </td><td>4                   </td><td>01101    0    0    0</td></tr>\n",
       "\t<tr><td>3.26                </td><td>0.5694730           </td><td>0                   </td><td>0                   </td><td>0                   </td><td>UTE                 </td><td>2                   </td><td>F                   </td><td>E                   </td><td>2                   </td><td>01101    0    0    0</td></tr>\n",
       "\t<tr><td>4.14                </td><td>0.3175907           </td><td>0                   </td><td>0                   </td><td>0                   </td><td>STNWG               </td><td>2                   </td><td>F                   </td><td>D                   </td><td>2                   </td><td>01101    0    0    0</td></tr>\n",
       "\t<tr><td>0.72                </td><td>0.6488706           </td><td>0                   </td><td>0                   </td><td>0                   </td><td>HBACK               </td><td>4                   </td><td>F                   </td><td>C                   </td><td>2                   </td><td>01101    0    0    0</td></tr>\n",
       "\t<tr><td>2.01                </td><td>0.8542094           </td><td>0                   </td><td>0                   </td><td>0                   </td><td>HDTOP               </td><td>3                   </td><td>M                   </td><td>C                   </td><td>4                   </td><td>01101    0    0    0</td></tr>\n",
       "</tbody>\n",
       "</table>\n"
      ],
      "text/latex": [
       "\\begin{tabular}{r|lllllllllll}\n",
       " veh\\_value & exposure & clm & numclaims & claimcst0 & veh\\_body & veh\\_age & gender & area & agecat & X\\_OBSTAT\\_\\\\\n",
       "\\hline\n",
       "\t 1.06                 & 0.3039014            & 0                    & 0                    & 0                    & HBACK                & 3                    & F                    & C                    & 2                    & 01101    0    0    0\\\\\n",
       "\t 1.03                 & 0.6488706            & 0                    & 0                    & 0                    & HBACK                & 2                    & F                    & A                    & 4                    & 01101    0    0    0\\\\\n",
       "\t 3.26                 & 0.5694730            & 0                    & 0                    & 0                    & UTE                  & 2                    & F                    & E                    & 2                    & 01101    0    0    0\\\\\n",
       "\t 4.14                 & 0.3175907            & 0                    & 0                    & 0                    & STNWG                & 2                    & F                    & D                    & 2                    & 01101    0    0    0\\\\\n",
       "\t 0.72                 & 0.6488706            & 0                    & 0                    & 0                    & HBACK                & 4                    & F                    & C                    & 2                    & 01101    0    0    0\\\\\n",
       "\t 2.01                 & 0.8542094            & 0                    & 0                    & 0                    & HDTOP                & 3                    & M                    & C                    & 4                    & 01101    0    0    0\\\\\n",
       "\\end{tabular}\n"
      ],
      "text/markdown": [
       "\n",
       "veh_value | exposure | clm | numclaims | claimcst0 | veh_body | veh_age | gender | area | agecat | X_OBSTAT_ | \n",
       "|---|---|---|---|---|---|\n",
       "| 1.06                 | 0.3039014            | 0                    | 0                    | 0                    | HBACK                | 3                    | F                    | C                    | 2                    | 01101    0    0    0 | \n",
       "| 1.03                 | 0.6488706            | 0                    | 0                    | 0                    | HBACK                | 2                    | F                    | A                    | 4                    | 01101    0    0    0 | \n",
       "| 3.26                 | 0.5694730            | 0                    | 0                    | 0                    | UTE                  | 2                    | F                    | E                    | 2                    | 01101    0    0    0 | \n",
       "| 4.14                 | 0.3175907            | 0                    | 0                    | 0                    | STNWG                | 2                    | F                    | D                    | 2                    | 01101    0    0    0 | \n",
       "| 0.72                 | 0.6488706            | 0                    | 0                    | 0                    | HBACK                | 4                    | F                    | C                    | 2                    | 01101    0    0    0 | \n",
       "| 2.01                 | 0.8542094            | 0                    | 0                    | 0                    | HDTOP                | 3                    | M                    | C                    | 4                    | 01101    0    0    0 | \n",
       "\n",
       "\n"
      ],
      "text/plain": [
       "  veh_value exposure  clm numclaims claimcst0 veh_body veh_age gender area\n",
       "1 1.06      0.3039014 0   0         0         HBACK    3       F      C   \n",
       "2 1.03      0.6488706 0   0         0         HBACK    2       F      A   \n",
       "3 3.26      0.5694730 0   0         0         UTE      2       F      E   \n",
       "4 4.14      0.3175907 0   0         0         STNWG    2       F      D   \n",
       "5 0.72      0.6488706 0   0         0         HBACK    4       F      C   \n",
       "6 2.01      0.8542094 0   0         0         HDTOP    3       M      C   \n",
       "  agecat X_OBSTAT_           \n",
       "1 2      01101    0    0    0\n",
       "2 4      01101    0    0    0\n",
       "3 2      01101    0    0    0\n",
       "4 2      01101    0    0    0\n",
       "5 2      01101    0    0    0\n",
       "6 4      01101    0    0    0"
      ]
     },
     "metadata": {},
     "output_type": "display_data"
    }
   ],
   "source": [
    "# Load new dataset and inspect the data\n",
    "library(insuranceData)\n",
    "\n",
    "data(dataCar)\n",
    "str(dataCar)\n",
    "paste()\n",
    "head(dataCar)"
   ]
  },
  {
   "cell_type": "markdown",
   "metadata": {},
   "source": [
    "#### Variables of Interest\n",
    "Our target variable will be claim amount and our random variable will be area. The assumption of this study is that the six possible area levels are only a sample of all the levels available in the population, which is often the case. The fixed-effect variables we'll focus on in this case are vehicle value, vehicle body, vehicle age, driver's gender, and driver's age."
   ]
  },
  {
   "cell_type": "code",
   "execution_count": 2,
   "metadata": {},
   "outputs": [
    {
     "data": {
      "text/html": [
       "'Vehicle Value:'"
      ],
      "text/latex": [
       "'Vehicle Value:'"
      ],
      "text/markdown": [
       "'Vehicle Value:'"
      ],
      "text/plain": [
       "[1] \"Vehicle Value:\""
      ]
     },
     "metadata": {},
     "output_type": "display_data"
    },
    {
     "data": {
      "text/plain": [
       "   Min. 1st Qu.  Median    Mean 3rd Qu.    Max. \n",
       "  0.000   1.010   1.500   1.777   2.150  34.560 "
      ]
     },
     "metadata": {},
     "output_type": "display_data"
    },
    {
     "data": {
      "text/html": [],
      "text/latex": [],
      "text/markdown": [],
      "text/plain": [
       "character(0)"
      ]
     },
     "metadata": {},
     "output_type": "display_data"
    },
    {
     "data": {
      "text/html": [
       "'Vehicle Body:'"
      ],
      "text/latex": [
       "'Vehicle Body:'"
      ],
      "text/markdown": [
       "'Vehicle Body:'"
      ],
      "text/plain": [
       "[1] \"Vehicle Body:\""
      ]
     },
     "metadata": {},
     "output_type": "display_data"
    },
    {
     "data": {
      "text/plain": [
       "\n",
       "  BUS CONVT COUPE HBACK HDTOP MCARA MIBUS PANVN RDSTR SEDAN STNWG TRUCK   UTE \n",
       "   48    81   780 18915  1579   127   717   752    27 22233 16261  1750  4586 "
      ]
     },
     "metadata": {},
     "output_type": "display_data"
    },
    {
     "data": {
      "text/html": [],
      "text/latex": [],
      "text/markdown": [],
      "text/plain": [
       "character(0)"
      ]
     },
     "metadata": {},
     "output_type": "display_data"
    },
    {
     "data": {
      "text/html": [
       "'Vehicle Age:'"
      ],
      "text/latex": [
       "'Vehicle Age:'"
      ],
      "text/markdown": [
       "'Vehicle Age:'"
      ],
      "text/plain": [
       "[1] \"Vehicle Age:\""
      ]
     },
     "metadata": {},
     "output_type": "display_data"
    },
    {
     "data": {
      "text/plain": [
       "\n",
       "    1     2     3     4 \n",
       "12257 16587 20064 18948 "
      ]
     },
     "metadata": {},
     "output_type": "display_data"
    },
    {
     "data": {
      "text/html": [],
      "text/latex": [],
      "text/markdown": [],
      "text/plain": [
       "character(0)"
      ]
     },
     "metadata": {},
     "output_type": "display_data"
    },
    {
     "data": {
      "text/html": [
       "'Driver Gender:'"
      ],
      "text/latex": [
       "'Driver Gender:'"
      ],
      "text/markdown": [
       "'Driver Gender:'"
      ],
      "text/plain": [
       "[1] \"Driver Gender:\""
      ]
     },
     "metadata": {},
     "output_type": "display_data"
    },
    {
     "data": {
      "text/plain": [
       "\n",
       "    F     M \n",
       "38603 29253 "
      ]
     },
     "metadata": {},
     "output_type": "display_data"
    },
    {
     "data": {
      "text/html": [],
      "text/latex": [],
      "text/markdown": [],
      "text/plain": [
       "character(0)"
      ]
     },
     "metadata": {},
     "output_type": "display_data"
    },
    {
     "data": {
      "text/html": [
       "'Driver Age:'"
      ],
      "text/latex": [
       "'Driver Age:'"
      ],
      "text/markdown": [
       "'Driver Age:'"
      ],
      "text/plain": [
       "[1] \"Driver Age:\""
      ]
     },
     "metadata": {},
     "output_type": "display_data"
    },
    {
     "data": {
      "text/plain": [
       "\n",
       "    1     2     3     4     5     6 \n",
       " 5742 12875 15767 16189 10736  6547 "
      ]
     },
     "metadata": {},
     "output_type": "display_data"
    },
    {
     "data": {
      "text/html": [],
      "text/latex": [],
      "text/markdown": [],
      "text/plain": [
       "character(0)"
      ]
     },
     "metadata": {},
     "output_type": "display_data"
    },
    {
     "data": {
      "text/html": [
       "'Area:'"
      ],
      "text/latex": [
       "'Area:'"
      ],
      "text/markdown": [
       "'Area:'"
      ],
      "text/plain": [
       "[1] \"Area:\""
      ]
     },
     "metadata": {},
     "output_type": "display_data"
    },
    {
     "data": {
      "text/plain": [
       "\n",
       "    A     B     C     D     E     F \n",
       "16312 13341 20540  8173  5912  3578 "
      ]
     },
     "metadata": {},
     "output_type": "display_data"
    },
    {
     "data": {
      "text/html": [],
      "text/latex": [],
      "text/markdown": [],
      "text/plain": [
       "character(0)"
      ]
     },
     "metadata": {},
     "output_type": "display_data"
    },
    {
     "data": {
      "image/png": "[encoded data removed]",
      "text/plain": [
       "Plot with title \"Claim Cost\""
      ]
     },
     "metadata": {},
     "output_type": "display_data"
    }
   ],
   "source": [
    "# View stats/values of explantory variables\n",
    "paste('Vehicle Value:')\n",
    "summary(dataCar$veh_value)\n",
    "paste()\n",
    "paste('Vehicle Body:')\n",
    "table(dataCar$veh_body)\n",
    "paste()\n",
    "paste('Vehicle Age:')\n",
    "table(dataCar$veh_age)\n",
    "paste()\n",
    "paste('Driver Gender:')\n",
    "table(dataCar$gender)\n",
    "paste()\n",
    "paste('Driver Age:')\n",
    "table(dataCar$agecat)\n",
    "paste()\n",
    "paste('Area:')\n",
    "table(dataCar$area)\n",
    "paste()\n",
    "# View distribution of target variable\n",
    "hist(dataCar$claimcst0, main='Claim Cost')"
   ]
  },
  {
   "cell_type": "markdown",
   "metadata": {},
   "source": [
    "## Generalized Linear Mixed Effects Model (GLMM)\n",
    "\n",
    "As we can see from the histogram above, our target variable does not have a normal distribution but rather a Poisson distribution. This is commonly seen in insurance for claim count and severity. If our target variable had a Gaussian distribution, we could use a linear mixed effects model (LME) or a Nonlinear Mixed Effect Model (NLME). \n",
    "\n",
    "However in the case of other exponential family distributions, we will consider the Generalized Mixed Effect Model (GLMM) which has the form: $y=X\\beta + Z\\mu + \\epsilon$ where $X\\beta$ represents the fixed-effects predictors variables and their regression coefficients and $Z\\mu$ represents the random-effects variables and their complements to the regression coefficients. \n",
    "\n",
    "Because the GLMM does not have a closed-form solution, several packages in R use Monte Carlo simulations to approximate the maximum likelihood estimation (MLE) to determine the best model parameters. Here we will use ten simulations to keep computation costs low."
   ]
  },
  {
   "cell_type": "code",
   "execution_count": null,
   "metadata": {},
   "outputs": [],
   "source": [
    "suppressMessages(suppressWarnings(library(glmm)))\n",
    "\n",
    "dataCar$target <- as.integer(dataCar$claimcst0)\n",
    "glmm_model <- glmm(fixed=target ~ veh_value + veh_body,\n",
    "                   random= ~ 0 + area,\n",
    "                   varcomps.names=c('area'),\n",
    "                   data=dataCar,\n",
    "                   family.glmm=poisson.glmm,\n",
    "                   m=10)"
   ]
  },
  {
   "cell_type": "code",
   "execution_count": null,
   "metadata": {},
   "outputs": [],
   "source": [
    "## ... and here is where my computer crashes"
   ]
  }
 ],
 "metadata": {
  "kernelspec": {
   "display_name": "R",
   "language": "R",
   "name": "ir"
  },
  "language_info": {
   "codemirror_mode": "r",
   "file_extension": ".r",
   "mimetype": "text/x-r-source",
   "name": "R",
   "pygments_lexer": "r",
   "version": "3.3.2"
  }
 },
 "nbformat": 4,
 "nbformat_minor": 2
}
