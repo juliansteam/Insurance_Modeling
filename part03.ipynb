{
 "cells": [
  {
   "cell_type": "markdown",
   "metadata": {},
   "source": [
    "# Part 3: Mixed Effects Regression Models\n",
    "<b>Author</b>: Sterling Cutler\n",
    "<br>\n",
    "<b>Date</b>: March 22, 2018"
   ]
  },
  {
   "cell_type": "markdown",
   "metadata": {},
   "source": [
    "## Mixed Effects\n",
    "\n",
    "One important consideration in using GLM's is that the model assumes the data is independent. In our auto bodily injury dataset, we are assuming the no claimant is represented in more than one claim. If a claimant had filed two different claims, then we should ask ourselves, \"How might the first claim have impacted the likelihood of experiencing the second? How independent are these events?\"\n",
    "\n",
    "Some possible explanations for why these events may not be independent could include:\n",
    "- first accident left claimant with impaired driving abilities (physical and/or mental)\n",
    "- claimant is continuing poor driving habits that resulted in first accident\n",
    "- claimant is committing multiple cases of insurance fraud\n",
    "\n",
    "This is somewhat of a simplification, but it demonstrates the importance of understanding why models should try to capture nonindependence where it may be present. Mixed effects models handle this by accounting for random effects (or variance components) in addition to fixed effects. \n",
    "\n",
    "Because the GLMM package currently only supports Poisson and binomial distributions for the target variable, let's use a different dataset that includes claim count for simulated auto collisions over three years. We'll filter down to one year and claim count as our target variable."
   ]
  },
  {
   "cell_type": "code",
   "execution_count": 3,
   "metadata": {},
   "outputs": [
    {
     "ename": "ERROR",
     "evalue": "Error in library(insuranceData): there is no package called 'insuranceData'\n",
     "execution_count": 3,
     "output_type": "error",
     "traceback": [
      "Error in library(insuranceData): there is no package called 'insuranceData'\nTraceback:\n",
      "1. library(insuranceData)",
      "2. stop(txt, domain = NA)"
     ]
    }
   ],
   "source": [
    "# Load and preview raw data\n",
    "library(insuranceData)\n",
    "\n",
    "data(\"ClaimsLong\")\n",
    "df <- subset(ClaimsLong, period==1)\n",
    "rm(ClaimsLong)\n",
    "\n",
    "cat('Dataset shape:', dim(df))\n",
    "head(df)"
   ]
  },
  {
   "cell_type": "code",
   "execution_count": null,
   "metadata": {},
   "outputs": [],
   "source": [
    "# View distribution of categorical and target variables\n",
    "table(df$agecat)\n",
    "table(df$valuecat)\n",
    "hist(df$numclaims, xlab=\"Number of Claims\", main=\"Auto Claim Count\")"
   ]
  },
  {
   "cell_type": "markdown",
   "metadata": {},
   "source": [
    "## Generalized Linear Mixed Model (GLMM)\n",
    "\n",
    "https://cran.r-project.org/web/packages/glmm/vignettes/intro.pdf\n",
    "\n",
    "GLMMs are an extension of the generalized linear mixed models that include both fixed and random effects[1]. The general form of the model (in matrix notation) is: $y=X\\beta+Z\\mu+\\epsilon$\n",
    "\n",
    "- $y$ is a $Nx1$ column vector, the outcome variable \n",
    "- $X$ is a $Nxp$ matrix of the $p$ predictor variables \n",
    "- $\\beta$ is a $px1$ column vector of the fixed-effects regression coefficients (the $\\beta$ s)\n",
    "- $Z$ is the $Nxq$ design matrix for the $q$ random effects (the random complement to the fixed $X$)\n",
    "- $\\mu$ is a $qX1$ vector of the random effects (the random complement to the fixed $\\beta$)\n",
    "- $\\epsilon$ is a $Nx1$ column vector of the residuals, that part of $y$ that is not explained by the model $X\\beta+Z\\mu$\n",
    "\n",
    "Here we'll use the vehicle value category as our fixed effect and the driver's agecategory as our random effect."
   ]
  },
  {
   "cell_type": "code",
   "execution_count": null,
   "metadata": {},
   "outputs": [],
   "source": [
    "library(glmm)\n",
    "\n",
    "glmm <- glmm(fixed=numclaims ~ 0 + valuecat, \n",
    "             random= numclaims ~ 0 + agecat,\n",
    "             varcomps.names= c(\"claim_value\"),\n",
    "             data = df,\n",
    "             m = 100,\n",
    "             family.glmm=\"poisson.glmm\")\n",
    "\n",
    "summary(glmm)"
   ]
  },
  {
   "cell_type": "markdown",
   "metadata": {},
   "source": [
    "## HGLM\n",
    "Doc: https://cran.r-project.org/web/packages/hglm/hglm.pdf\n",
    "\n",
    "Link: https://www.diva-portal.org/smash/get/diva2:685966/FULLTEXT02.pdf"
   ]
  },
  {
   "cell_type": "code",
   "execution_count": null,
   "metadata": {},
   "outputs": [],
   "source": [
    "library(hglm)\n",
    "\n",
    "hglm <- hglm(X=\"matrix for fixed effects\", \n",
    "             y=\"dependent variable\",\n",
    "             Z=\"matrix for random effects\",\n",
    "             family = gaussian(link = identity),\n",
    "             rand.family = gaussian(link = identity),\n",
    "             conv=1e-6,\n",
    "             maxit=50)\n",
    "\n",
    "summary(hglm)"
   ]
  },
  {
   "cell_type": "markdown",
   "metadata": {},
   "source": [
    "## LME\n",
    "Doc: https://cran.r-project.org/web/packages/nlme/nlme.pdf\n",
    "\n",
    "Link: http://www.bodowinter.com/tutorial/bw_LME_tutorial2.pdf"
   ]
  },
  {
   "cell_type": "code",
   "execution_count": null,
   "metadata": {},
   "outputs": [],
   "source": [
    "library(nlme)\n",
    "\n",
    "lme <- lme(fixed=\"two-sided linear formula of Y ~ X form\", \n",
    "           data=AutoBi, \n",
    "           random=\"two-sided formula of form ~ x1 + ... + xn | g1/.../gm\")\n",
    "\n",
    "summary(lme)"
   ]
  },
  {
   "cell_type": "markdown",
   "metadata": {},
   "source": [
    "## NLME\n",
    "Doc: https://cran.r-project.org/web/packages/nlme/nlme.pdf\n",
    "\n",
    "Link: http://lme4.r-forge.r-project.org/slides/2011-01-11-Madison/6NLMMH.pdf"
   ]
  },
  {
   "cell_type": "code",
   "execution_count": null,
   "metadata": {},
   "outputs": [],
   "source": [
    "nlme <- nlme(model=\"nonlinear model formula of Y ~ X form\", \n",
    "             data=AutoBi,\n",
    "             fixed=\"two-sided linear formula of Y ~ X form\", \n",
    "             random=\"two-sided formula of form ~ x1 + ... + xn | g1/.../gm\")\n",
    "\n",
    "summary(nlme)"
   ]
  },
  {
   "cell_type": "markdown",
   "metadata": {},
   "source": [
    "## Sources\n",
    "[1] https://stats.idre.ucla.edu/other/mult-pkg/introduction-to-generalized-linear-mixed-models/"
   ]
  }
 ],
 "metadata": {
  "kernelspec": {
   "display_name": "R",
   "language": "R",
   "name": "ir"
  },
  "language_info": {
   "codemirror_mode": "r",
   "file_extension": ".r",
   "mimetype": "text/x-r-source",
   "name": "R",
   "pygments_lexer": "r",
   "version": "3.4.1"
  }
 },
 "nbformat": 4,
 "nbformat_minor": 2
}
