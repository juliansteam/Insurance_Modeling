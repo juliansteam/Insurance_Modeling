{
 "cells": [
  {
   "cell_type": "markdown",
   "metadata": {},
   "source": [
    "# Part 5: Advanced Machine Learning Models\n",
    "<b>Author</b>: Sterling Cutler\n",
    "<br>\n",
    "<b>Date</b>: March 24, 2018"
   ]
  },
  {
   "cell_type": "markdown",
   "metadata": {},
   "source": [
    "## Boosting, Bagging, and Ensemble Methods\n",
    "Link: https://quantdare.com/what-is-the-difference-between-bagging-and-boosting/\n",
    "\n",
    "#### work in progress"
   ]
  },
  {
   "cell_type": "code",
   "execution_count": 1,
   "metadata": {},
   "outputs": [
    {
     "name": "stdout",
     "output_type": "stream",
     "text": [
      "Train Data Shape: 1071 6 \n",
      "Test Data Shape: 268 6"
     ]
    }
   ],
   "source": [
    "# Load dataset\n",
    "df <- read.csv(\"ABI_data.csv\")\n",
    "\n",
    "# Train/test split\n",
    "train_ind <- sample(nrow(df), size=round(nrow(df)*0.8), replace=FALSE)\n",
    "x_train <- data.matrix(df[train_ind, 1:6])\n",
    "x_test <- data.matrix(df[-train_ind, 1:6])\n",
    "y_train <- df[train_ind, 7]\n",
    "y_test <- df[-train_ind, 7]\n",
    "\n",
    "# Print data shapes\n",
    "cat('Train Data Shape:', dim(x_train), \"\\n\")\n",
    "cat('Test Data Shape:', dim(x_test))"
   ]
  },
  {
   "cell_type": "markdown",
   "metadata": {},
   "source": [
    "## Gradient Boosting Machine (GBM)\n",
    "Link: https://medium.com/mlreview/gradient-boosting-from-scratch-1e317ae4587d\n",
    "\n",
    "#### work in progress"
   ]
  },
  {
   "cell_type": "code",
   "execution_count": 2,
   "metadata": {},
   "outputs": [
    {
     "name": "stdout",
     "output_type": "stream",
     "text": [
      "Iter   TrainDeviance   ValidDeviance   StepSize   Improve\n",
      "     1        1.8625             nan     0.5000    0.4018\n",
      "     2        1.7475             nan     0.5000    0.1067\n",
      "     3        1.6340             nan     0.5000    0.1064\n",
      "     4        1.5986             nan     0.5000    0.0289\n",
      "     5        1.5682             nan     0.5000    0.0144\n",
      "     6        1.5563             nan     0.5000    0.0022\n",
      "     7        1.5449             nan     0.5000   -0.0071\n",
      "     8        1.5411             nan     0.5000   -0.0094\n",
      "     9        1.5419             nan     0.5000   -0.0370\n",
      "    10        1.5288             nan     0.5000    0.0142\n",
      "    20        1.5070             nan     0.5000   -0.0073\n",
      "    40        1.4972             nan     0.5000   -0.0052\n",
      "    60        1.4787             nan     0.5000   -0.0036\n",
      "    80        1.4717             nan     0.5000   -0.0123\n",
      "   100        1.4674             nan     0.5000   -0.0102\n",
      "\n"
     ]
    },
    {
     "data": {
      "text/html": [
       "<table>\n",
       "<thead><tr><th></th><th scope=col>var</th><th scope=col>rel.inf</th></tr></thead>\n",
       "<tbody>\n",
       "\t<tr><th scope=row>NORM_CLMAGE</th><td>NORM_CLMAGE</td><td>44.7263246 </td></tr>\n",
       "\t<tr><th scope=row>ATTORNEY</th><td>ATTORNEY   </td><td>41.2830146 </td></tr>\n",
       "\t<tr><th scope=row>MARITAL</th><td>MARITAL    </td><td> 7.4695536 </td></tr>\n",
       "\t<tr><th scope=row>CLMSEX</th><td>CLMSEX     </td><td> 3.3687662 </td></tr>\n",
       "\t<tr><th scope=row>SEATBELT</th><td>SEATBELT   </td><td> 2.5010612 </td></tr>\n",
       "\t<tr><th scope=row>CLMINSUR</th><td>CLMINSUR   </td><td> 0.6512798 </td></tr>\n",
       "</tbody>\n",
       "</table>\n"
      ],
      "text/latex": [
       "\\begin{tabular}{r|ll}\n",
       "  & var & rel.inf\\\\\n",
       "\\hline\n",
       "\tNORM\\_CLMAGE & NORM\\_CLMAGE & 44.7263246   \\\\\n",
       "\tATTORNEY & ATTORNEY    & 41.2830146 \\\\\n",
       "\tMARITAL & MARITAL     &  7.4695536 \\\\\n",
       "\tCLMSEX & CLMSEX      &  3.3687662 \\\\\n",
       "\tSEATBELT & SEATBELT    &  2.5010612 \\\\\n",
       "\tCLMINSUR & CLMINSUR    &  0.6512798 \\\\\n",
       "\\end{tabular}\n"
      ],
      "text/markdown": [
       "\n",
       "| <!--/--> | var | rel.inf | \n",
       "|---|---|---|---|---|---|\n",
       "| NORM_CLMAGE | NORM_CLMAGE | 44.7263246  | \n",
       "| ATTORNEY | ATTORNEY    | 41.2830146  | \n",
       "| MARITAL | MARITAL     |  7.4695536  | \n",
       "| CLMSEX | CLMSEX      |  3.3687662  | \n",
       "| SEATBELT | SEATBELT    |  2.5010612  | \n",
       "| CLMINSUR | CLMINSUR    |  0.6512798  | \n",
       "\n",
       "\n"
      ],
      "text/plain": [
       "            var         rel.inf   \n",
       "NORM_CLMAGE NORM_CLMAGE 44.7263246\n",
       "ATTORNEY    ATTORNEY    41.2830146\n",
       "MARITAL     MARITAL      7.4695536\n",
       "CLMSEX      CLMSEX       3.3687662\n",
       "SEATBELT    SEATBELT     2.5010612\n",
       "CLMINSUR    CLMINSUR     0.6512798"
      ]
     },
     "metadata": {},
     "output_type": "display_data"
    },
    {
     "data": {
      "image/png": "[encoded data removed]",
      "text/plain": [
       "plot without title"
      ]
     },
     "metadata": {},
     "output_type": "display_data"
    }
   ],
   "source": [
    "suppressMessages(library(gbm))\n",
    "\n",
    "# Fit GBM model and print summary\n",
    "gbm <- gbm.fit(x_train, y_train, distribution=\"gaussian\", n.trees=100,\n",
    "           shrinkage=0.5, bag.fraction=0.5)\n",
    "summary(gbm)"
   ]
  },
  {
   "cell_type": "code",
   "execution_count": 3,
   "metadata": {},
   "outputs": [
    {
     "name": "stderr",
     "output_type": "stream",
     "text": [
      "Warning message in gbm.perf(gbm, method = \"OOB\"):\n",
      "\"OOB generally underestimates the optimal number of iterations although predictive performance is reasonably competitive. Using cv.folds>0 when calling gbm usually results in improved predictive performance.\""
     ]
    },
    {
     "data": {
      "text/html": [
       "'Best iteration: 11'"
      ],
      "text/latex": [
       "'Best iteration: 11'"
      ],
      "text/markdown": [
       "'Best iteration: 11'"
      ],
      "text/plain": [
       "[1] \"Best iteration: 11\""
      ]
     },
     "metadata": {},
     "output_type": "display_data"
    },
    {
     "data": {
      "image/png": "[encoded data removed]",
      "text/plain": [
       "plot without title"
      ]
     },
     "metadata": {},
     "output_type": "display_data"
    },
    {
     "data": {
      "text/html": [
       "<table>\n",
       "<thead><tr><th></th><th scope=col>var</th><th scope=col>rel.inf</th></tr></thead>\n",
       "<tbody>\n",
       "\t<tr><th scope=row>ATTORNEY</th><td>ATTORNEY   </td><td>68.581793  </td></tr>\n",
       "\t<tr><th scope=row>NORM_CLMAGE</th><td>NORM_CLMAGE</td><td>28.155649  </td></tr>\n",
       "\t<tr><th scope=row>SEATBELT</th><td>SEATBELT   </td><td> 3.262558  </td></tr>\n",
       "\t<tr><th scope=row>CLMSEX</th><td>CLMSEX     </td><td> 0.000000  </td></tr>\n",
       "\t<tr><th scope=row>MARITAL</th><td>MARITAL    </td><td> 0.000000  </td></tr>\n",
       "\t<tr><th scope=row>CLMINSUR</th><td>CLMINSUR   </td><td> 0.000000  </td></tr>\n",
       "</tbody>\n",
       "</table>\n"
      ],
      "text/latex": [
       "\\begin{tabular}{r|ll}\n",
       "  & var & rel.inf\\\\\n",
       "\\hline\n",
       "\tATTORNEY & ATTORNEY    & 68.581793  \\\\\n",
       "\tNORM\\_CLMAGE & NORM\\_CLMAGE & 28.155649    \\\\\n",
       "\tSEATBELT & SEATBELT    &  3.262558  \\\\\n",
       "\tCLMSEX & CLMSEX      &  0.000000  \\\\\n",
       "\tMARITAL & MARITAL     &  0.000000  \\\\\n",
       "\tCLMINSUR & CLMINSUR    &  0.000000  \\\\\n",
       "\\end{tabular}\n"
      ],
      "text/markdown": [
       "\n",
       "| <!--/--> | var | rel.inf | \n",
       "|---|---|---|---|---|---|\n",
       "| ATTORNEY | ATTORNEY    | 68.581793   | \n",
       "| NORM_CLMAGE | NORM_CLMAGE | 28.155649   | \n",
       "| SEATBELT | SEATBELT    |  3.262558   | \n",
       "| CLMSEX | CLMSEX      |  0.000000   | \n",
       "| MARITAL | MARITAL     |  0.000000   | \n",
       "| CLMINSUR | CLMINSUR    |  0.000000   | \n",
       "\n",
       "\n"
      ],
      "text/plain": [
       "            var         rel.inf  \n",
       "ATTORNEY    ATTORNEY    68.581793\n",
       "NORM_CLMAGE NORM_CLMAGE 28.155649\n",
       "SEATBELT    SEATBELT     3.262558\n",
       "CLMSEX      CLMSEX       0.000000\n",
       "MARITAL     MARITAL      0.000000\n",
       "CLMINSUR    CLMINSUR     0.000000"
      ]
     },
     "metadata": {},
     "output_type": "display_data"
    },
    {
     "data": {
      "image/png": "[encoded data removed]",
      "text/plain": [
       "plot without title"
      ]
     },
     "metadata": {},
     "output_type": "display_data"
    }
   ],
   "source": [
    "# Use out-of-bag estimator (OOB) to find optimal number of iterations\n",
    "best_iter <- gbm.perf(gbm, method=\"OOB\")\n",
    "paste(\"Best iteration:\", best_iter)\n",
    "summary(gbm, n.trees=best_iter)"
   ]
  },
  {
   "cell_type": "code",
   "execution_count": 4,
   "metadata": {},
   "outputs": [
    {
     "data": {
      "text/html": [
       "'GBM RMSE: 1.0863'"
      ],
      "text/latex": [
       "'GBM RMSE: 1.0863'"
      ],
      "text/markdown": [
       "'GBM RMSE: 1.0863'"
      ],
      "text/plain": [
       "[1] \"GBM RMSE: 1.0863\""
      ]
     },
     "metadata": {},
     "output_type": "display_data"
    }
   ],
   "source": [
    "suppressWarnings(library(Metrics))\n",
    "\n",
    "# Predict target for test data\n",
    "gbm_preds <- predict(gbm, x_test, best_iter)\n",
    "paste(\"GBM RMSE:\", round(rmse(y_test, gbm_preds), 4))"
   ]
  },
  {
   "cell_type": "markdown",
   "metadata": {},
   "source": [
    "## Random Forest\n",
    "\n",
    "#### work in progress"
   ]
  },
  {
   "cell_type": "code",
   "execution_count": 5,
   "metadata": {},
   "outputs": [
    {
     "name": "stdout",
     "output_type": "stream",
     "text": [
      "\n",
      "Call:\n",
      " randomForest(x = x_train, y = y_train, xtest = x_test, ytest = y_test,      ntree = 500) \n",
      "               Type of random forest: regression\n",
      "                     Number of trees: 500\n",
      "No. of variables tried at each split: 2\n",
      "\n",
      "          Mean of squared residuals: 1.564344\n",
      "                    % Var explained: 30.46\n",
      "                       Test set MSE: 1.23\n",
      "                    % Var explained: 30.67\n"
     ]
    }
   ],
   "source": [
    "suppressMessages(library(randomForest))\n",
    "\n",
    "# Fit Random Forest model and view model summary\n",
    "rf_model <- randomForest(x_train, y_train, x_test, y_test, ntree=500)\n",
    "print(rf_model)"
   ]
  },
  {
   "cell_type": "code",
   "execution_count": 6,
   "metadata": {},
   "outputs": [
    {
     "data": {
      "text/html": [
       "<ol class=list-inline>\n",
       "\t<li>'6 1.58429641787761'</li>\n",
       "\t<li>'3 1.57011017650228'</li>\n",
       "\t<li>'1 1.72842308375844'</li>\n",
       "</ol>\n"
      ],
      "text/latex": [
       "\\begin{enumerate*}\n",
       "\\item '6 1.58429641787761'\n",
       "\\item '3 1.57011017650228'\n",
       "\\item '1 1.72842308375844'\n",
       "\\end{enumerate*}\n"
      ],
      "text/markdown": [
       "1. '6 1.58429641787761'\n",
       "2. '3 1.57011017650228'\n",
       "3. '1 1.72842308375844'\n",
       "\n",
       "\n"
      ],
      "text/plain": [
       "[1] \"6 1.58429641787761\" \"3 1.57011017650228\" \"1 1.72842308375844\""
      ]
     },
     "metadata": {},
     "output_type": "display_data"
    }
   ],
   "source": [
    "# Tune model parameters with cross validation\n",
    "rf_cv <- rfcv(x_train, y_train, cv.fold=5)\n",
    "paste(rf_cv$n.var, rf_cv$error.cv)"
   ]
  },
  {
   "cell_type": "code",
   "execution_count": 7,
   "metadata": {},
   "outputs": [
    {
     "data": {
      "image/png": "[encoded data removed]",
      "text/plain": [
       "Plot with title \"rf_model\""
      ]
     },
     "metadata": {},
     "output_type": "display_data"
    }
   ],
   "source": [
    "# Plot variable importance\n",
    "varImpPlot(rf_model, sort=TRUE)"
   ]
  },
  {
   "cell_type": "code",
   "execution_count": 8,
   "metadata": {},
   "outputs": [
    {
     "data": {
      "text/html": [
       "'RandomForest RMSE: 1.1476'"
      ],
      "text/latex": [
       "'RandomForest RMSE: 1.1476'"
      ],
      "text/markdown": [
       "'RandomForest RMSE: 1.1476'"
      ],
      "text/plain": [
       "[1] \"RandomForest RMSE: 1.1476\""
      ]
     },
     "metadata": {},
     "output_type": "display_data"
    }
   ],
   "source": [
    "# Make model predictions against test data\n",
    "rf_model2 <- randomForest(x_train, y_train, x_test, y_test, ntree=500, mtry=3, keep.forest=TRUE)\n",
    "rf_preds <- predict(rf_model2, x_test)\n",
    "paste(\"RandomForest RMSE:\", round(rmse(y_test, rf_preds), 4))"
   ]
  },
  {
   "cell_type": "markdown",
   "metadata": {},
   "source": [
    "## XGBOOST\n",
    "Link: http://xgboost.readthedocs.io/en/latest/model.html#objective-function-training-loss-regularization\n",
    "\n",
    "Versus GBM:\n",
    "- Adds regularization term that helps model avoid overfitting\n",
    "- Other hardware/computational benefits\n",
    "\n",
    "#### work in progress"
   ]
  },
  {
   "cell_type": "code",
   "execution_count": 9,
   "metadata": {},
   "outputs": [],
   "source": [
    "library(xgboost)\n",
    "\n",
    "# Fit model to training data\n",
    "dtrain <- xgb.DMatrix(x_train, label=y_train)\n",
    "cntrl = list(eta=0.01, max_depth=3, gamma=0.3)\n",
    "xgb <- xgb.train(params=cntrl, data=dtrain, nrounds=500)"
   ]
  },
  {
   "cell_type": "code",
   "execution_count": 10,
   "metadata": {},
   "outputs": [
    {
     "name": "stdout",
     "output_type": "stream",
     "text": [
      "[1]\ttrain-rmse:1.347913+0.008022\ttest-rmse:1.380803+0.033485 \n",
      "[2]\ttrain-rmse:1.259968+0.006047\ttest-rmse:1.322579+0.027855 \n",
      "[3]\ttrain-rmse:1.205920+0.007300\ttest-rmse:1.294853+0.029368 \n",
      "[4]\ttrain-rmse:1.170567+0.006580\ttest-rmse:1.282010+0.029056 \n",
      "[5]\ttrain-rmse:1.147813+0.008437\ttest-rmse:1.281277+0.026704 \n",
      "[6]\ttrain-rmse:1.131539+0.008752\ttest-rmse:1.284291+0.026284 \n",
      "[7]\ttrain-rmse:1.117117+0.010963\ttest-rmse:1.287854+0.027408 \n",
      "[8]\ttrain-rmse:1.105062+0.012578\ttest-rmse:1.294920+0.029172 \n",
      "[9]\ttrain-rmse:1.096223+0.011898\ttest-rmse:1.296898+0.030535 \n",
      "[10]\ttrain-rmse:1.088055+0.009963\ttest-rmse:1.300770+0.033431 \n",
      "##### xgb.cv 5-folds\n",
      " iter train_rmse_mean train_rmse_std test_rmse_mean test_rmse_std\n",
      "    1        1.347913    0.008022137       1.380803    0.03348468\n",
      "    2        1.259968    0.006046821       1.322579    0.02785495\n",
      "    3        1.205920    0.007300221       1.294853    0.02936761\n",
      "    4        1.170567    0.006579842       1.282010    0.02905632\n",
      "    5        1.147813    0.008436636       1.281277    0.02670382\n",
      "    6        1.131539    0.008751743       1.284291    0.02628368\n",
      "    7        1.117117    0.010962802       1.287854    0.02740775\n",
      "    8        1.105062    0.012577518       1.294920    0.02917247\n",
      "    9        1.096223    0.011898193       1.296898    0.03053487\n",
      "   10        1.088055    0.009962583       1.300770    0.03343125\n"
     ]
    }
   ],
   "source": [
    "# Find number of rounds with cross validation\n",
    "cv <- xgb.cv(data=dtrain, nrounds=10, nfold=5, metrics=\"rmse\", objective=\"reg:linear\")\n",
    "print(cv)"
   ]
  },
  {
   "cell_type": "code",
   "execution_count": 11,
   "metadata": {},
   "outputs": [
    {
     "name": "stdout",
     "output_type": "stream",
     "text": [
      "       Feature        Gain       Cover  Frequency\n",
      "1:    ATTORNEY 0.618168632 0.215374605 0.10366032\n",
      "2: NORM_CLMAGE 0.322502180 0.580265116 0.60497804\n",
      "3:     MARITAL 0.036615406 0.077137022 0.14582723\n",
      "4:    SEATBELT 0.016286166 0.115747561 0.07525622\n",
      "5:      CLMSEX 0.004340028 0.008988911 0.05212299\n",
      "6:    CLMINSUR 0.002087589 0.002486785 0.01815520\n"
     ]
    },
    {
     "data": {},
     "metadata": {},
     "output_type": "display_data"
    },
    {
     "data": {
      "image/png": "[encoded data removed]",
      "text/plain": [
       "plot without title"
      ]
     },
     "metadata": {},
     "output_type": "display_data"
    }
   ],
   "source": [
    "suppressMessages(library(ggplot2))\n",
    "\n",
    "# Show and plot feature importance\n",
    "importances <- xgb.importance(colnames(x_train), xgb)\n",
    "print(importances)\n",
    "xgb.ggplot.importance(importances)"
   ]
  },
  {
   "cell_type": "code",
   "execution_count": 12,
   "metadata": {},
   "outputs": [],
   "source": [
    "# Fit better model based on parameter experimentation\n",
    "cntrl = list(eta=0.01, max_depth=2, alpha=1.0, gamma=1.0)\n",
    "xgb <- xgb.train(params=cntrl, data=dtrain, nrounds=1000)"
   ]
  },
  {
   "cell_type": "code",
   "execution_count": 13,
   "metadata": {},
   "outputs": [
    {
     "data": {
      "text/html": [
       "'XGBoost RMSE: 1.0981'"
      ],
      "text/latex": [
       "'XGBoost RMSE: 1.0981'"
      ],
      "text/markdown": [
       "'XGBoost RMSE: 1.0981'"
      ],
      "text/plain": [
       "[1] \"XGBoost RMSE: 1.0981\""
      ]
     },
     "metadata": {},
     "output_type": "display_data"
    }
   ],
   "source": [
    "# Make model predictions against test data\n",
    "xgb_preds <- predict(xgb, x_test)\n",
    "paste(\"XGBoost RMSE:\", round(rmse(y_test, xgb_preds), 4))"
   ]
  },
  {
   "cell_type": "markdown",
   "metadata": {},
   "source": [
    "## Final Note: Distributed Modeling\n",
    "Sometimes datasets are too large to model on a single machine in a stable and timely manner.\n",
    "#### work in progress"
   ]
  },
  {
   "cell_type": "markdown",
   "metadata": {},
   "source": [
    "## Sources\n"
   ]
  }
 ],
 "metadata": {
  "kernelspec": {
   "display_name": "R",
   "language": "R",
   "name": "ir"
  },
  "language_info": {
   "codemirror_mode": "r",
   "file_extension": ".r",
   "mimetype": "text/x-r-source",
   "name": "R",
   "pygments_lexer": "r",
   "version": "3.3.2"
  }
 },
 "nbformat": 4,
 "nbformat_minor": 2
}
