{
 "cells": [
  {
   "cell_type": "markdown",
   "metadata": {},
   "source": [
    "# Part 1: Exploratory Data Analysis\n",
    "<b>Author</b>: Sterling Cutler\n",
    "<br>\n",
    "<b>Date</b>: March 20, 2018"
   ]
  },
  {
   "cell_type": "markdown",
   "metadata": {},
   "source": [
    "## Introduction to Ratemaking\n",
    "Insurance companies use pricing (or ratemaking) models to determine premiums rates. A rate is an estimate of the expected value of a future cost. In insurance, rates are used to cover the expected cost of loss events. There are three primary regulations governing how insurers set these rates:\n",
    "\n",
    "1.) they must be *fair* compared to the risk\n",
    "\n",
    "2.) they must be *adequate* to maintain insurer solvency\n",
    "\n",
    "3.) they are *not discriminatory* against members of an underwriting class with similar risk profiles\n",
    "\n",
    "Another important consideration in designing models is the interpretability and underlying statistical basis on which it operates. A Casualty Actuarial and Statistical Task Force White Paper[1] states, \"The Task Force recommends that rating plans in which insureds are grouped into homogeneous rating classes should not be so granular that resulting rating classes have little actuarial or statistical reliability. The use of sophisticated data analysis to develop finely tuned methodologies with a multiplicity of possible rating cells is not, in and of itself, a violation of rating laws as long as the rating classes and rating factors are cost-based.\"\n",
    "\n",
    "Given the various constraints imposed on insurance modeling, generalized linear models are frequently used. This report will demonstrate examples of using linear models to interpret and predict auto bodily injury losses. The dataset is provided in the \"insuranceData\" package.\n",
    "\n",
    "Description of the variables[3] are as follows: \n",
    "- CASENUM: case number to identify the claim\n",
    "- ATTORNEY: whether the claimant is represented by an attorney (=1 if yes and =2 if no)\n",
    "- CLMSEX: claimant's gender (=1 if male and =2 if female)\n",
    "- MARITAL: claimant's marital status (=1 if married, =2 if single, =3 if widowed, and =4 if divorced/separated)\n",
    "- CLMINSUR: whether or not the driver of the claimant's vehicle was uninsured (=1 if yes, =2 if no, and =3 if not applicable)\n",
    "- SEATBELT: whether or not the claimant was wearing a seatbelt/child restraint (=1 if yes, =2 if no, and =3 if not applicable)\n",
    "- CLMAGE: claimant's age\n",
    "- LOSS The claimant's total economic loss (in thousands)"
   ]
  },
  {
   "cell_type": "code",
   "execution_count": 2,
   "metadata": {},
   "outputs": [],
   "source": [
    "# Load packages\n",
    "library(insuranceData)\n",
    "\n",
    "# Load dataset\n",
    "data(AutoBi)"
   ]
  },
  {
   "cell_type": "markdown",
   "metadata": {},
   "source": [
    "## Exploratory Data Analysis (EDA)\n",
    "Before applying a model to a dataset, it's important to conduct exploratory data analysis to understand the distribution and relationships between the indepedent and dependent variables. Data Scientist Daniel Gutierrez explains[2], \"The goal of exploratory data analysis is to obtain confidence in your data to a point where you're ready to engage a machine learning algorithm...In a hurry to get to the machine learning stage, some data scientists either entirely skip the exploratory process or do a very perfunctory job. This is a mistake with many implications, including generating inaccurate models, generating accurate models but on the wrong data, not creating the right types of variables in data preparation, and using resources inefficiently because of realizing only after generating models that perhaps the data is skewed, or has outliers, or has too many missing values, or finding that some values are inconsistent.\"\n",
    "\n",
    "We'll start by examining the structure of the data including value types and distributions, as well as missing value counts and replacements. Because four of the five columns with missing values are categorical, and thereby coded as integers, we'll replace missing values with the column median. We'll remove an outlier ($1067.70) from the target variable and take the log distribution to keep it in scale with the other variables. We'll also normalize the claim age variable."
   ]
  },
  {
   "cell_type": "code",
   "execution_count": 3,
   "metadata": {},
   "outputs": [
    {
     "name": "stdout",
     "output_type": "stream",
     "text": [
      "Shape: 1340 8"
     ]
    }
   ],
   "source": [
    "# Print dataset shape\n",
    "cat('Shape:', dim(AutoBi))"
   ]
  },
  {
   "cell_type": "code",
   "execution_count": 4,
   "metadata": {},
   "outputs": [
    {
     "name": "stdout",
     "output_type": "stream",
     "text": [
      "Variables: CASENUM ATTORNEY CLMSEX MARITAL CLMINSUR SEATBELT CLMAGE LOSS"
     ]
    }
   ],
   "source": [
    "# Print all variable names\n",
    "cat('Variables:', names(AutoBi))"
   ]
  },
  {
   "cell_type": "code",
   "execution_count": 5,
   "metadata": {},
   "outputs": [
    {
     "name": "stdout",
     "output_type": "stream",
     "text": [
      "'data.frame':\t1340 obs. of  8 variables:\n",
      " $ CASENUM : int  5 13 66 71 96 97 120 136 152 155 ...\n",
      " $ ATTORNEY: int  1 2 2 1 2 1 1 1 2 2 ...\n",
      " $ CLMSEX  : int  1 2 1 1 1 2 1 2 2 1 ...\n",
      " $ MARITAL : int  NA 2 2 1 4 1 2 2 2 2 ...\n",
      " $ CLMINSUR: int  2 1 2 2 2 2 2 2 2 2 ...\n",
      " $ SEATBELT: int  1 1 1 2 1 1 1 1 1 1 ...\n",
      " $ CLMAGE  : int  50 28 5 32 30 35 19 34 61 NA ...\n",
      " $ LOSS    : num  34.94 10.892 0.33 11.037 0.138 ...\n"
     ]
    }
   ],
   "source": [
    "# Print dataset structure\n",
    "str(AutoBi)"
   ]
  },
  {
   "cell_type": "code",
   "execution_count": 6,
   "metadata": {},
   "outputs": [
    {
     "data": {
      "text/html": [
       "<table>\n",
       "<thead><tr><th scope=col>CASENUM</th><th scope=col>ATTORNEY</th><th scope=col>CLMSEX</th><th scope=col>MARITAL</th><th scope=col>CLMINSUR</th><th scope=col>SEATBELT</th><th scope=col>CLMAGE</th><th scope=col>LOSS</th></tr></thead>\n",
       "<tbody>\n",
       "\t<tr><td> 5    </td><td>1     </td><td>1     </td><td>NA    </td><td>2     </td><td>1     </td><td>50    </td><td>34.940</td></tr>\n",
       "\t<tr><td>13    </td><td>2     </td><td>2     </td><td> 2    </td><td>1     </td><td>1     </td><td>28    </td><td>10.892</td></tr>\n",
       "\t<tr><td>66    </td><td>2     </td><td>1     </td><td> 2    </td><td>2     </td><td>1     </td><td> 5    </td><td> 0.330</td></tr>\n",
       "\t<tr><td>71    </td><td>1     </td><td>1     </td><td> 1    </td><td>2     </td><td>2     </td><td>32    </td><td>11.037</td></tr>\n",
       "\t<tr><td>96    </td><td>2     </td><td>1     </td><td> 4    </td><td>2     </td><td>1     </td><td>30    </td><td> 0.138</td></tr>\n",
       "\t<tr><td>97    </td><td>1     </td><td>2     </td><td> 1    </td><td>2     </td><td>1     </td><td>35    </td><td> 0.309</td></tr>\n",
       "</tbody>\n",
       "</table>\n"
      ],
      "text/latex": [
       "\\begin{tabular}{r|llllllll}\n",
       " CASENUM & ATTORNEY & CLMSEX & MARITAL & CLMINSUR & SEATBELT & CLMAGE & LOSS\\\\\n",
       "\\hline\n",
       "\t  5     & 1      & 1      & NA     & 2      & 1      & 50     & 34.940\\\\\n",
       "\t 13     & 2      & 2      &  2     & 1      & 1      & 28     & 10.892\\\\\n",
       "\t 66     & 2      & 1      &  2     & 2      & 1      &  5     &  0.330\\\\\n",
       "\t 71     & 1      & 1      &  1     & 2      & 2      & 32     & 11.037\\\\\n",
       "\t 96     & 2      & 1      &  4     & 2      & 1      & 30     &  0.138\\\\\n",
       "\t 97     & 1      & 2      &  1     & 2      & 1      & 35     &  0.309\\\\\n",
       "\\end{tabular}\n"
      ],
      "text/markdown": [
       "\n",
       "CASENUM | ATTORNEY | CLMSEX | MARITAL | CLMINSUR | SEATBELT | CLMAGE | LOSS | \n",
       "|---|---|---|---|---|---|\n",
       "|  5     | 1      | 1      | NA     | 2      | 1      | 50     | 34.940 | \n",
       "| 13     | 2      | 2      |  2     | 1      | 1      | 28     | 10.892 | \n",
       "| 66     | 2      | 1      |  2     | 2      | 1      |  5     |  0.330 | \n",
       "| 71     | 1      | 1      |  1     | 2      | 2      | 32     | 11.037 | \n",
       "| 96     | 2      | 1      |  4     | 2      | 1      | 30     |  0.138 | \n",
       "| 97     | 1      | 2      |  1     | 2      | 1      | 35     |  0.309 | \n",
       "\n",
       "\n"
      ],
      "text/plain": [
       "  CASENUM ATTORNEY CLMSEX MARITAL CLMINSUR SEATBELT CLMAGE LOSS  \n",
       "1  5      1        1      NA      2        1        50     34.940\n",
       "2 13      2        2       2      1        1        28     10.892\n",
       "3 66      2        1       2      2        1         5      0.330\n",
       "4 71      1        1       1      2        2        32     11.037\n",
       "5 96      2        1       4      2        1        30      0.138\n",
       "6 97      1        2       1      2        1        35      0.309"
      ]
     },
     "metadata": {},
     "output_type": "display_data"
    }
   ],
   "source": [
    "# Print first six rows of dataset\n",
    "head(AutoBi)"
   ]
  },
  {
   "cell_type": "markdown",
   "metadata": {},
   "source": [
    "Next, we'll inspect missing value counts. Because four of the five columns with missing values are categorical, and thereby coded as integers, we'll replace missing values with the column median."
   ]
  },
  {
   "cell_type": "code",
   "execution_count": 7,
   "metadata": {},
   "outputs": [
    {
     "name": "stdout",
     "output_type": "stream",
     "text": [
      " CASENUM ATTORNEY   CLMSEX  MARITAL CLMINSUR SEATBELT   CLMAGE     LOSS \n",
      "       0        0       12       16       41       48      189        0 \n"
     ]
    }
   ],
   "source": [
    "# Examine current count of missing values\n",
    "nulls <- sapply(AutoBi, function(col) sum(is.na(col)))\n",
    "print(nulls)"
   ]
  },
  {
   "cell_type": "code",
   "execution_count": 8,
   "metadata": {},
   "outputs": [
    {
     "name": "stdout",
     "output_type": "stream",
     "text": [
      " CASENUM ATTORNEY   CLMSEX  MARITAL CLMINSUR SEATBELT   CLMAGE     LOSS \n",
      "       0        0       12       16       41       48      189        0 \n"
     ]
    }
   ],
   "source": [
    "# Replace missing values with column median\n",
    "for(i in 1:ncol(AutoBi)){\n",
    "  AutoBi[is.na(AutoBi[,i]), i] <- median(AutoBi[,i], na.rm = TRUE)\n",
    "}\n",
    "print(nulls)"
   ]
  },
  {
   "cell_type": "markdown",
   "metadata": {},
   "source": [
    "We'll normalize the claim age variable, remove an outlier ($1067.70) from the target variable and take the log distribution to keep it in scale with the other variables."
   ]
  },
  {
   "cell_type": "code",
   "execution_count": 9,
   "metadata": {},
   "outputs": [
    {
     "data": {
      "text/plain": [
       "    Min.  1st Qu.   Median     Mean  3rd Qu.     Max. \n",
       "-2.03900 -0.71410 -0.08298  0.00000  0.54810  3.95600 "
      ]
     },
     "metadata": {},
     "output_type": "display_data"
    }
   ],
   "source": [
    "# Normalize claim age variable\n",
    "AutoBi$NORM_CLMAGE <- (AutoBi$CLMAGE-mean(AutoBi$CLMAGE))/sd(AutoBi$CLMAGE)\n",
    "summary(AutoBi$NORM_CLMAGE)"
   ]
  },
  {
   "cell_type": "code",
   "execution_count": 10,
   "metadata": {},
   "outputs": [
    {
     "data": {
      "text/plain": [
       "    Min.  1st Qu.   Median     Mean  3rd Qu.     Max. \n",
       "   0.005    0.640    2.331    5.953    3.995 1068.000 "
      ]
     },
     "metadata": {},
     "output_type": "display_data"
    }
   ],
   "source": [
    "# Remove outlier from target loss variable\n",
    "summary(AutoBi$LOSS)\n",
    "AutoBi <- subset(AutoBi, LOSS < 300)"
   ]
  },
  {
   "cell_type": "code",
   "execution_count": 11,
   "metadata": {},
   "outputs": [
    {
     "data": {
      "image/png": "[encoded data removed]",
      "text/plain": [
       "Plot with title \"LOG(Loss) Q-Q Plot\""
      ]
     },
     "metadata": {},
     "output_type": "display_data"
    }
   ],
   "source": [
    "# Take log distribution of target loss variable and visualize\n",
    "AutoBi$TARGET <- with(AutoBi, log(LOSS))\n",
    "par(mfrow=c(2, 2))\n",
    "hist(AutoBi$LOSS, main=\"Loss Histogram\")\n",
    "hist(AutoBi$TARGET, main=\"LOG(Loss) Histogram\")\n",
    "qqnorm(AutoBi$LOSS, main=\"Loss Q-Q Plot\")\n",
    "qqline(AutoBi$LOSS, col='red')\n",
    "qqnorm(AutoBi$TARGET, main=\"LOG(Loss) Q-Q Plot\")\n",
    "qqline(AutoBi$TARGET, col='red')"
   ]
  },
  {
   "cell_type": "markdown",
   "metadata": {},
   "source": [
    "We'll ignore the case number variable and the loss and claim age variables before transformation. We'll plot the histograms and boxplots of the remaining variables to inspect their distributions."
   ]
  },
  {
   "cell_type": "code",
   "execution_count": 12,
   "metadata": {},
   "outputs": [
    {
     "data": {
      "text/plain": [
       "    ATTORNEY         CLMSEX         MARITAL         CLMINSUR       SEATBELT    \n",
       " Min.   :1.000   Min.   :1.000   Min.   :1.000   Min.   :1.00   Min.   :1.000  \n",
       " 1st Qu.:1.000   1st Qu.:1.000   1st Qu.:1.000   1st Qu.:2.00   1st Qu.:1.000  \n",
       " Median :1.000   Median :2.000   Median :2.000   Median :2.00   Median :1.000  \n",
       " Mean   :1.489   Mean   :1.562   Mean   :1.598   Mean   :1.91   Mean   :1.016  \n",
       " 3rd Qu.:2.000   3rd Qu.:2.000   3rd Qu.:2.000   3rd Qu.:2.00   3rd Qu.:1.000  \n",
       " Max.   :2.000   Max.   :2.000   Max.   :4.000   Max.   :2.00   Max.   :2.000  \n",
       "  NORM_CLMAGE            TARGET       \n",
       " Min.   :-2.039360   Min.   :-5.2983  \n",
       " 1st Qu.:-0.714073   1st Qu.:-0.4463  \n",
       " Median :-0.082984   Median : 0.8450  \n",
       " Mean   : 0.000062   Mean   : 0.5520  \n",
       " 3rd Qu.: 0.548106   3rd Qu.: 1.3847  \n",
       " Max.   : 3.955987   Max.   : 5.6117  "
      ]
     },
     "metadata": {},
     "output_type": "display_data"
    }
   ],
   "source": [
    "# Select columns for modeling and print summary\n",
    "data <- AutoBi[, -c(1, 7, 8)]\n",
    "summary(data)"
   ]
  },
  {
   "cell_type": "code",
   "execution_count": 13,
   "metadata": {},
   "outputs": [
    {
     "data": {
      "image/png": "[encoded data removed]",
      "text/plain": [
       "Plot with title \"\""
      ]
     },
     "metadata": {},
     "output_type": "display_data"
    }
   ],
   "source": [
    "# Plot histograms\n",
    "par(mfrow=c(2, 4))\n",
    "for (i in c(1:length(data))){\n",
    "  hist(data[, i], xlab=paste(names(data)[i]), main=\"\")\n",
    "}"
   ]
  },
  {
   "cell_type": "code",
   "execution_count": 14,
   "metadata": {},
   "outputs": [
    {
     "data": {
      "image/png": "[encoded data removed]",
      "text/plain": [
       "Plot with title \"\""
      ]
     },
     "metadata": {},
     "output_type": "display_data"
    }
   ],
   "source": [
    "# Plot boxplots\n",
    "par(mfrow=c(2, 4))\n",
    "for (i in c(1:length(data))){\n",
    "  boxplot(data[, i], xlab=paste(names(data)[i]), main=\"\")\n",
    "}"
   ]
  },
  {
   "cell_type": "markdown",
   "metadata": {},
   "source": [
    "ggplot is a great R package for visualizing the interactions between multiple variables like so:"
   ]
  },
  {
   "cell_type": "code",
   "execution_count": 15,
   "metadata": {},
   "outputs": [
    {
     "data": {},
     "metadata": {},
     "output_type": "display_data"
    },
    {
     "data": {
      "image/png": "[encoded data removed]",
      "text/plain": [
       "plot without title"
      ]
     },
     "metadata": {},
     "output_type": "display_data"
    }
   ],
   "source": [
    "library(ggplot2)\n",
    "\n",
    "# Demonstrate example of ggplot for claim sex, claim age, and target loss\n",
    "p <- ggplot(data=data, aes(x=NORM_CLMAGE, y=TARGET, group=CLMSEX)) + \n",
    "  geom_line(aes(color=factor(CLMSEX))) + \n",
    "  geom_smooth(aes(color=factor(CLMSEX)), method=\"loess\") +\n",
    "  scale_colour_discrete(name=\"Gender\", labels=c(\"Male\", \"Female\")) + \n",
    "  ggtitle(\"Example GGPlot Visualization\") +\n",
    "  theme(plot.title = element_text(size=14, face=\"bold\"))\n",
    "p"
   ]
  },
  {
   "cell_type": "markdown",
   "metadata": {},
   "source": [
    "## Statistical Analysis\n",
    "Before moving on, it's important to examine the correlations, variances, and covariances between the variables to understand their relationships with each other."
   ]
  },
  {
   "cell_type": "code",
   "execution_count": 16,
   "metadata": {},
   "outputs": [
    {
     "data": {
      "text/html": [
       "<table>\n",
       "<thead><tr><th></th><th scope=col>ATTORNEY</th><th scope=col>CLMSEX</th><th scope=col>MARITAL</th><th scope=col>CLMINSUR</th><th scope=col>SEATBELT</th><th scope=col>NORM_CLMAGE</th><th scope=col>TARGET</th></tr></thead>\n",
       "<tbody>\n",
       "\t<tr><th scope=row>ATTORNEY</th><td> 1.000000000</td><td> 0.07725816 </td><td>-0.004211485</td><td> 0.07689041 </td><td>-0.05596228 </td><td> 0.01217038 </td><td>-0.48060306 </td></tr>\n",
       "\t<tr><th scope=row>CLMSEX</th><td> 0.077258165</td><td> 1.00000000 </td><td> 0.019869566</td><td> 0.06579117 </td><td>-0.01624646 </td><td>-0.01395414 </td><td>-0.02122892 </td></tr>\n",
       "\t<tr><th scope=row>MARITAL</th><td>-0.004211485</td><td> 0.01986957 </td><td> 1.000000000</td><td> 0.02335017 </td><td>-0.01959518 </td><td>-0.24986330 </td><td>-0.08583131 </td></tr>\n",
       "\t<tr><th scope=row>CLMINSUR</th><td> 0.076890411</td><td> 0.06579117 </td><td> 0.023350171</td><td> 1.00000000 </td><td> 0.01998392 </td><td> 0.03430618 </td><td>-0.03274251 </td></tr>\n",
       "\t<tr><th scope=row>SEATBELT</th><td>-0.055962277</td><td>-0.01624646 </td><td>-0.019595180</td><td> 0.01998392 </td><td> 1.00000000 </td><td>-0.02074376 </td><td> 0.11050440 </td></tr>\n",
       "\t<tr><th scope=row>NORM_CLMAGE</th><td> 0.012170385</td><td>-0.01395414 </td><td>-0.249863297</td><td> 0.03430618 </td><td>-0.02074376 </td><td> 1.00000000 </td><td> 0.16918624 </td></tr>\n",
       "\t<tr><th scope=row>TARGET</th><td>-0.480603060</td><td>-0.02122892 </td><td>-0.085831307</td><td>-0.03274251 </td><td> 0.11050440 </td><td> 0.16918624 </td><td> 1.00000000 </td></tr>\n",
       "</tbody>\n",
       "</table>\n"
      ],
      "text/latex": [
       "\\begin{tabular}{r|lllllll}\n",
       "  & ATTORNEY & CLMSEX & MARITAL & CLMINSUR & SEATBELT & NORM\\_CLMAGE & TARGET\\\\\n",
       "\\hline\n",
       "\tATTORNEY &  1.000000000 &  0.07725816  & -0.004211485 &  0.07689041  & -0.05596228  &  0.01217038  & -0.48060306 \\\\\n",
       "\tCLMSEX &  0.077258165 &  1.00000000  &  0.019869566 &  0.06579117  & -0.01624646  & -0.01395414  & -0.02122892 \\\\\n",
       "\tMARITAL & -0.004211485 &  0.01986957  &  1.000000000 &  0.02335017  & -0.01959518  & -0.24986330  & -0.08583131 \\\\\n",
       "\tCLMINSUR &  0.076890411 &  0.06579117  &  0.023350171 &  1.00000000  &  0.01998392  &  0.03430618  & -0.03274251 \\\\\n",
       "\tSEATBELT & -0.055962277 & -0.01624646  & -0.019595180 &  0.01998392  &  1.00000000  & -0.02074376  &  0.11050440 \\\\\n",
       "\tNORM\\_CLMAGE &  0.012170385 & -0.01395414  & -0.249863297 &  0.03430618  & -0.02074376  &  1.00000000  &  0.16918624 \\\\\n",
       "\tTARGET & -0.480603060 & -0.02122892  & -0.085831307 & -0.03274251  &  0.11050440  &  0.16918624  &  1.00000000 \\\\\n",
       "\\end{tabular}\n"
      ],
      "text/markdown": [
       "\n",
       "| <!--/--> | ATTORNEY | CLMSEX | MARITAL | CLMINSUR | SEATBELT | NORM_CLMAGE | TARGET | \n",
       "|---|---|---|---|---|---|---|\n",
       "| ATTORNEY |  1.000000000 |  0.07725816  | -0.004211485 |  0.07689041  | -0.05596228  |  0.01217038  | -0.48060306  | \n",
       "| CLMSEX |  0.077258165 |  1.00000000  |  0.019869566 |  0.06579117  | -0.01624646  | -0.01395414  | -0.02122892  | \n",
       "| MARITAL | -0.004211485 |  0.01986957  |  1.000000000 |  0.02335017  | -0.01959518  | -0.24986330  | -0.08583131  | \n",
       "| CLMINSUR |  0.076890411 |  0.06579117  |  0.023350171 |  1.00000000  |  0.01998392  |  0.03430618  | -0.03274251  | \n",
       "| SEATBELT | -0.055962277 | -0.01624646  | -0.019595180 |  0.01998392  |  1.00000000  | -0.02074376  |  0.11050440  | \n",
       "| NORM_CLMAGE |  0.012170385 | -0.01395414  | -0.249863297 |  0.03430618  | -0.02074376  |  1.00000000  |  0.16918624  | \n",
       "| TARGET | -0.480603060 | -0.02122892  | -0.085831307 | -0.03274251  |  0.11050440  |  0.16918624  |  1.00000000  | \n",
       "\n",
       "\n"
      ],
      "text/plain": [
       "            ATTORNEY     CLMSEX      MARITAL      CLMINSUR    SEATBELT   \n",
       "ATTORNEY     1.000000000  0.07725816 -0.004211485  0.07689041 -0.05596228\n",
       "CLMSEX       0.077258165  1.00000000  0.019869566  0.06579117 -0.01624646\n",
       "MARITAL     -0.004211485  0.01986957  1.000000000  0.02335017 -0.01959518\n",
       "CLMINSUR     0.076890411  0.06579117  0.023350171  1.00000000  0.01998392\n",
       "SEATBELT    -0.055962277 -0.01624646 -0.019595180  0.01998392  1.00000000\n",
       "NORM_CLMAGE  0.012170385 -0.01395414 -0.249863297  0.03430618 -0.02074376\n",
       "TARGET      -0.480603060 -0.02122892 -0.085831307 -0.03274251  0.11050440\n",
       "            NORM_CLMAGE TARGET     \n",
       "ATTORNEY     0.01217038 -0.48060306\n",
       "CLMSEX      -0.01395414 -0.02122892\n",
       "MARITAL     -0.24986330 -0.08583131\n",
       "CLMINSUR     0.03430618 -0.03274251\n",
       "SEATBELT    -0.02074376  0.11050440\n",
       "NORM_CLMAGE  1.00000000  0.16918624\n",
       "TARGET       0.16918624  1.00000000"
      ]
     },
     "metadata": {},
     "output_type": "display_data"
    },
    {
     "data": {
      "text/html": [
       "<table>\n",
       "<thead><tr><th></th><th scope=col>ATTORNEY</th><th scope=col>CLMSEX</th><th scope=col>MARITAL</th><th scope=col>CLMINSUR</th><th scope=col>SEATBELT</th><th scope=col>NORM_CLMAGE</th><th scope=col>TARGET</th></tr></thead>\n",
       "<tbody>\n",
       "\t<tr><th scope=row>ATTORNEY</th><td> 0.250069492 </td><td> 0.019173557 </td><td>-0.001364716 </td><td> 0.0109869378</td><td>-0.0035588659</td><td> 0.006088296 </td><td>-0.35295392  </td></tr>\n",
       "\t<tr><th scope=row>CLMSEX</th><td> 0.019173557 </td><td> 0.246295174 </td><td> 0.006389883 </td><td> 0.0093297432</td><td>-0.0010253508</td><td>-0.006927749 </td><td>-0.01547238  </td></tr>\n",
       "\t<tr><th scope=row>MARITAL</th><td>-0.001364716 </td><td> 0.006389883 </td><td> 0.419907099 </td><td> 0.0043235532</td><td>-0.0016147740</td><td>-0.161972091 </td><td>-0.08168145  </td></tr>\n",
       "\t<tr><th scope=row>CLMINSUR</th><td> 0.010986938 </td><td> 0.009329743 </td><td> 0.004323553 </td><td> 0.0816485095</td><td> 0.0007261739</td><td> 0.009806356 </td><td>-0.01374001  </td></tr>\n",
       "\t<tr><th scope=row>SEATBELT</th><td>-0.003558866 </td><td>-0.001025351 </td><td>-0.001614774 </td><td> 0.0007261739</td><td> 0.0161722991</td><td>-0.002638970 </td><td> 0.02063795  </td></tr>\n",
       "\t<tr><th scope=row>NORM_CLMAGE</th><td> 0.006088296 </td><td>-0.006927749 </td><td>-0.161972091 </td><td> 0.0098063562</td><td>-0.0026389697</td><td> 1.000742234 </td><td> 0.24855774  </td></tr>\n",
       "\t<tr><th scope=row>TARGET</th><td>-0.352953919 </td><td>-0.015472376 </td><td>-0.081681453 </td><td>-0.0137400137</td><td> 0.0206379509</td><td> 0.248557737 </td><td> 2.15676210  </td></tr>\n",
       "</tbody>\n",
       "</table>\n"
      ],
      "text/latex": [
       "\\begin{tabular}{r|lllllll}\n",
       "  & ATTORNEY & CLMSEX & MARITAL & CLMINSUR & SEATBELT & NORM\\_CLMAGE & TARGET\\\\\n",
       "\\hline\n",
       "\tATTORNEY &  0.250069492  &  0.019173557  & -0.001364716  &  0.0109869378 & -0.0035588659 &  0.006088296  & -0.35295392  \\\\\n",
       "\tCLMSEX &  0.019173557  &  0.246295174  &  0.006389883  &  0.0093297432 & -0.0010253508 & -0.006927749  & -0.01547238  \\\\\n",
       "\tMARITAL & -0.001364716  &  0.006389883  &  0.419907099  &  0.0043235532 & -0.0016147740 & -0.161972091  & -0.08168145  \\\\\n",
       "\tCLMINSUR &  0.010986938  &  0.009329743  &  0.004323553  &  0.0816485095 &  0.0007261739 &  0.009806356  & -0.01374001  \\\\\n",
       "\tSEATBELT & -0.003558866  & -0.001025351  & -0.001614774  &  0.0007261739 &  0.0161722991 & -0.002638970  &  0.02063795  \\\\\n",
       "\tNORM\\_CLMAGE &  0.006088296  & -0.006927749  & -0.161972091  &  0.0098063562 & -0.0026389697 &  1.000742234  &  0.24855774  \\\\\n",
       "\tTARGET & -0.352953919  & -0.015472376  & -0.081681453  & -0.0137400137 &  0.0206379509 &  0.248557737  &  2.15676210  \\\\\n",
       "\\end{tabular}\n"
      ],
      "text/markdown": [
       "\n",
       "| <!--/--> | ATTORNEY | CLMSEX | MARITAL | CLMINSUR | SEATBELT | NORM_CLMAGE | TARGET | \n",
       "|---|---|---|---|---|---|---|\n",
       "| ATTORNEY |  0.250069492  |  0.019173557  | -0.001364716  |  0.0109869378 | -0.0035588659 |  0.006088296  | -0.35295392   | \n",
       "| CLMSEX |  0.019173557  |  0.246295174  |  0.006389883  |  0.0093297432 | -0.0010253508 | -0.006927749  | -0.01547238   | \n",
       "| MARITAL | -0.001364716  |  0.006389883  |  0.419907099  |  0.0043235532 | -0.0016147740 | -0.161972091  | -0.08168145   | \n",
       "| CLMINSUR |  0.010986938  |  0.009329743  |  0.004323553  |  0.0816485095 |  0.0007261739 |  0.009806356  | -0.01374001   | \n",
       "| SEATBELT | -0.003558866  | -0.001025351  | -0.001614774  |  0.0007261739 |  0.0161722991 | -0.002638970  |  0.02063795   | \n",
       "| NORM_CLMAGE |  0.006088296  | -0.006927749  | -0.161972091  |  0.0098063562 | -0.0026389697 |  1.000742234  |  0.24855774   | \n",
       "| TARGET | -0.352953919  | -0.015472376  | -0.081681453  | -0.0137400137 |  0.0206379509 |  0.248557737  |  2.15676210   | \n",
       "\n",
       "\n"
      ],
      "text/plain": [
       "            ATTORNEY     CLMSEX       MARITAL      CLMINSUR      SEATBELT     \n",
       "ATTORNEY     0.250069492  0.019173557 -0.001364716  0.0109869378 -0.0035588659\n",
       "CLMSEX       0.019173557  0.246295174  0.006389883  0.0093297432 -0.0010253508\n",
       "MARITAL     -0.001364716  0.006389883  0.419907099  0.0043235532 -0.0016147740\n",
       "CLMINSUR     0.010986938  0.009329743  0.004323553  0.0816485095  0.0007261739\n",
       "SEATBELT    -0.003558866 -0.001025351 -0.001614774  0.0007261739  0.0161722991\n",
       "NORM_CLMAGE  0.006088296 -0.006927749 -0.161972091  0.0098063562 -0.0026389697\n",
       "TARGET      -0.352953919 -0.015472376 -0.081681453 -0.0137400137  0.0206379509\n",
       "            NORM_CLMAGE  TARGET     \n",
       "ATTORNEY     0.006088296 -0.35295392\n",
       "CLMSEX      -0.006927749 -0.01547238\n",
       "MARITAL     -0.161972091 -0.08168145\n",
       "CLMINSUR     0.009806356 -0.01374001\n",
       "SEATBELT    -0.002638970  0.02063795\n",
       "NORM_CLMAGE  1.000742234  0.24855774\n",
       "TARGET       0.248557737  2.15676210"
      ]
     },
     "metadata": {},
     "output_type": "display_data"
    },
    {
     "data": {
      "text/html": [
       "<table>\n",
       "<thead><tr><th></th><th scope=col>ATTORNEY</th><th scope=col>CLMSEX</th><th scope=col>MARITAL</th><th scope=col>CLMINSUR</th><th scope=col>SEATBELT</th><th scope=col>NORM_CLMAGE</th><th scope=col>TARGET</th></tr></thead>\n",
       "<tbody>\n",
       "\t<tr><th scope=row>ATTORNEY</th><td> 0.250069492 </td><td> 0.019173557 </td><td>-0.001364716 </td><td> 0.0109869378</td><td>-0.0035588659</td><td> 0.006088296 </td><td>-0.35295392  </td></tr>\n",
       "\t<tr><th scope=row>CLMSEX</th><td> 0.019173557 </td><td> 0.246295174 </td><td> 0.006389883 </td><td> 0.0093297432</td><td>-0.0010253508</td><td>-0.006927749 </td><td>-0.01547238  </td></tr>\n",
       "\t<tr><th scope=row>MARITAL</th><td>-0.001364716 </td><td> 0.006389883 </td><td> 0.419907099 </td><td> 0.0043235532</td><td>-0.0016147740</td><td>-0.161972091 </td><td>-0.08168145  </td></tr>\n",
       "\t<tr><th scope=row>CLMINSUR</th><td> 0.010986938 </td><td> 0.009329743 </td><td> 0.004323553 </td><td> 0.0816485095</td><td> 0.0007261739</td><td> 0.009806356 </td><td>-0.01374001  </td></tr>\n",
       "\t<tr><th scope=row>SEATBELT</th><td>-0.003558866 </td><td>-0.001025351 </td><td>-0.001614774 </td><td> 0.0007261739</td><td> 0.0161722991</td><td>-0.002638970 </td><td> 0.02063795  </td></tr>\n",
       "\t<tr><th scope=row>NORM_CLMAGE</th><td> 0.006088296 </td><td>-0.006927749 </td><td>-0.161972091 </td><td> 0.0098063562</td><td>-0.0026389697</td><td> 1.000742234 </td><td> 0.24855774  </td></tr>\n",
       "\t<tr><th scope=row>TARGET</th><td>-0.352953919 </td><td>-0.015472376 </td><td>-0.081681453 </td><td>-0.0137400137</td><td> 0.0206379509</td><td> 0.248557737 </td><td> 2.15676210  </td></tr>\n",
       "</tbody>\n",
       "</table>\n"
      ],
      "text/latex": [
       "\\begin{tabular}{r|lllllll}\n",
       "  & ATTORNEY & CLMSEX & MARITAL & CLMINSUR & SEATBELT & NORM\\_CLMAGE & TARGET\\\\\n",
       "\\hline\n",
       "\tATTORNEY &  0.250069492  &  0.019173557  & -0.001364716  &  0.0109869378 & -0.0035588659 &  0.006088296  & -0.35295392  \\\\\n",
       "\tCLMSEX &  0.019173557  &  0.246295174  &  0.006389883  &  0.0093297432 & -0.0010253508 & -0.006927749  & -0.01547238  \\\\\n",
       "\tMARITAL & -0.001364716  &  0.006389883  &  0.419907099  &  0.0043235532 & -0.0016147740 & -0.161972091  & -0.08168145  \\\\\n",
       "\tCLMINSUR &  0.010986938  &  0.009329743  &  0.004323553  &  0.0816485095 &  0.0007261739 &  0.009806356  & -0.01374001  \\\\\n",
       "\tSEATBELT & -0.003558866  & -0.001025351  & -0.001614774  &  0.0007261739 &  0.0161722991 & -0.002638970  &  0.02063795  \\\\\n",
       "\tNORM\\_CLMAGE &  0.006088296  & -0.006927749  & -0.161972091  &  0.0098063562 & -0.0026389697 &  1.000742234  &  0.24855774  \\\\\n",
       "\tTARGET & -0.352953919  & -0.015472376  & -0.081681453  & -0.0137400137 &  0.0206379509 &  0.248557737  &  2.15676210  \\\\\n",
       "\\end{tabular}\n"
      ],
      "text/markdown": [
       "\n",
       "| <!--/--> | ATTORNEY | CLMSEX | MARITAL | CLMINSUR | SEATBELT | NORM_CLMAGE | TARGET | \n",
       "|---|---|---|---|---|---|---|\n",
       "| ATTORNEY |  0.250069492  |  0.019173557  | -0.001364716  |  0.0109869378 | -0.0035588659 |  0.006088296  | -0.35295392   | \n",
       "| CLMSEX |  0.019173557  |  0.246295174  |  0.006389883  |  0.0093297432 | -0.0010253508 | -0.006927749  | -0.01547238   | \n",
       "| MARITAL | -0.001364716  |  0.006389883  |  0.419907099  |  0.0043235532 | -0.0016147740 | -0.161972091  | -0.08168145   | \n",
       "| CLMINSUR |  0.010986938  |  0.009329743  |  0.004323553  |  0.0816485095 |  0.0007261739 |  0.009806356  | -0.01374001   | \n",
       "| SEATBELT | -0.003558866  | -0.001025351  | -0.001614774  |  0.0007261739 |  0.0161722991 | -0.002638970  |  0.02063795   | \n",
       "| NORM_CLMAGE |  0.006088296  | -0.006927749  | -0.161972091  |  0.0098063562 | -0.0026389697 |  1.000742234  |  0.24855774   | \n",
       "| TARGET | -0.352953919  | -0.015472376  | -0.081681453  | -0.0137400137 |  0.0206379509 |  0.248557737  |  2.15676210   | \n",
       "\n",
       "\n"
      ],
      "text/plain": [
       "            ATTORNEY     CLMSEX       MARITAL      CLMINSUR      SEATBELT     \n",
       "ATTORNEY     0.250069492  0.019173557 -0.001364716  0.0109869378 -0.0035588659\n",
       "CLMSEX       0.019173557  0.246295174  0.006389883  0.0093297432 -0.0010253508\n",
       "MARITAL     -0.001364716  0.006389883  0.419907099  0.0043235532 -0.0016147740\n",
       "CLMINSUR     0.010986938  0.009329743  0.004323553  0.0816485095  0.0007261739\n",
       "SEATBELT    -0.003558866 -0.001025351 -0.001614774  0.0007261739  0.0161722991\n",
       "NORM_CLMAGE  0.006088296 -0.006927749 -0.161972091  0.0098063562 -0.0026389697\n",
       "TARGET      -0.352953919 -0.015472376 -0.081681453 -0.0137400137  0.0206379509\n",
       "            NORM_CLMAGE  TARGET     \n",
       "ATTORNEY     0.006088296 -0.35295392\n",
       "CLMSEX      -0.006927749 -0.01547238\n",
       "MARITAL     -0.161972091 -0.08168145\n",
       "CLMINSUR     0.009806356 -0.01374001\n",
       "SEATBELT    -0.002638970  0.02063795\n",
       "NORM_CLMAGE  1.000742234  0.24855774\n",
       "TARGET       0.248557737  2.15676210"
      ]
     },
     "metadata": {},
     "output_type": "display_data"
    }
   ],
   "source": [
    "# Print matrices of variable correlations, variances, and covariances\n",
    "cor(data)\n",
    "var(data)\n",
    "cov(data)"
   ]
  },
  {
   "cell_type": "code",
   "execution_count": 17,
   "metadata": {},
   "outputs": [
    {
     "data": {
      "image/png": "[encoded data removed]",
      "text/plain": [
       "plot without title"
      ]
     },
     "metadata": {},
     "output_type": "display_data"
    }
   ],
   "source": [
    "# Plot scatterplot matrix\n",
    "pairs(data)"
   ]
  },
  {
   "cell_type": "markdown",
   "metadata": {},
   "source": [
    "We'll also use the VIF test to detect if any multicollinearity is present. We can conclude multicollinearity is not a major concern as the maximum VIF values are less than 10."
   ]
  },
  {
   "cell_type": "code",
   "execution_count": 18,
   "metadata": {},
   "outputs": [
    {
     "name": "stdout",
     "output_type": "stream",
     "text": [
      "[1] \"1 0.05 0.025 17.6211677703933 0\"\n",
      "[1] \"2 0.075 0.01875 0.666984708478119 0.504781900992637\"\n",
      "[1] \"3 0.05625 0.009375 3.68864725782717 0.000225449527734289\"\n",
      "[1] \"4 0.096875 0.012109375 0.265487252201691 0.790634128900236\"\n",
      "[1] \"5 0.084765625 0.0084765625 3.48642354268215 0.00048952529227364\"\n",
      "[1] \"6 0.1262890625 0.0105240885416667 7.29214604008871 3.05089287166993e-13\"\n",
      "Max VIF Values:/n 0.510829 2.401792 0.9835698 3.955925"
     ]
    }
   ],
   "source": [
    "# Calculate VIF values\n",
    "library(VIF)\n",
    "\n",
    "vifs <- vif(data$TARGET, data[1:6])\n",
    "vif_df <- as.data.frame(vifs$modelmatrix)\n",
    "names(vif_df) <- vifs$select\n",
    "cat(\"Max VIF Values:/n\", sapply(vif_df, max))"
   ]
  },
  {
   "cell_type": "markdown",
   "metadata": {},
   "source": [
    "Finally, we'll save the dataset to a CSV file for later use."
   ]
  },
  {
   "cell_type": "code",
   "execution_count": 19,
   "metadata": {},
   "outputs": [],
   "source": [
    "# Save data to CSV\n",
    "write.csv(data, file=\"ABI_data.csv\", row.names=FALSE)"
   ]
  },
  {
   "cell_type": "markdown",
   "metadata": {},
   "source": [
    "## Sources\n",
    "[1] http://www.naic.org/documents/committees_c_catf_related_price_optimization_white_paper.pdf\n",
    "\n",
    "[2] https://insidebigdata.com/2014/11/09/ask-data-scientist-importance-exploratory-data-analysis/\n",
    "\n",
    "[3] https://cran.r-project.org/web/packages/insuranceData/insuranceData.pdf"
   ]
  }
 ],
 "metadata": {
  "kernelspec": {
   "display_name": "R",
   "language": "R",
   "name": "ir"
  },
  "language_info": {
   "codemirror_mode": "r",
   "file_extension": ".r",
   "mimetype": "text/x-r-source",
   "name": "R",
   "pygments_lexer": "r",
   "version": "3.3.2"
  }
 },
 "nbformat": 4,
 "nbformat_minor": 2
}
