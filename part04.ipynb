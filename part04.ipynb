{
 "cells": [
  {
   "cell_type": "markdown",
   "metadata": {},
   "source": [
    "# Part 4: Advanced Machine Learning Models\n",
    "<b>Author</b>: Sterling Cutler\n",
    "<br>\n",
    "<b>Date</b>: March 24, 2018"
   ]
  },
  {
   "cell_type": "markdown",
   "metadata": {},
   "source": [
    "## Bagging and Boosting Methods\n",
    "\n",
    "Bootstrap aggregating, or bagging, can help control model overfitting by reducing noise and variance in the training data. Bagging uses random sampling with replacement on the training data to create multiple learners with their own data subsets and averaging (or voting) the combined model predictions. We'll explore this techinque in more detail with the Random Forest model.\n",
    "\n",
    "Boosting techniques go a step further by training each learner in stages and adjusting the weights on the underlying data subset based on the learner's accuracy or loss in the previous stage. Then the learners' predictions are combined in a weighted average (or voted) to make a final prediction. We'll explore this technique in more detail with the Gradient Boosting Machine and XGBoost models."
   ]
  },
  {
   "cell_type": "code",
   "execution_count": 1,
   "metadata": {},
   "outputs": [
    {
     "name": "stdout",
     "output_type": "stream",
     "text": [
      "Train Data Shape: 1071 6 \n",
      "Test Data Shape: 268 6"
     ]
    }
   ],
   "source": [
    "# Load dataset\n",
    "df <- read.csv(\"ABI_data.csv\")\n",
    "\n",
    "# Train/test split\n",
    "train_ind <- sample(nrow(df), size=round(nrow(df)*0.8), replace=FALSE)\n",
    "x_train <- data.matrix(df[train_ind, 1:6])\n",
    "x_test <- data.matrix(df[-train_ind, 1:6])\n",
    "y_train <- df[train_ind, 7]\n",
    "y_test <- df[-train_ind, 7]\n",
    "\n",
    "# Print data shapes\n",
    "cat('Train Data Shape:', dim(x_train), \"\\n\")\n",
    "cat('Test Data Shape:', dim(x_test))"
   ]
  },
  {
   "cell_type": "markdown",
   "metadata": {},
   "source": [
    "## Random Forest\n",
    "\n",
    "A Random Forest model is an ensemble of decision trees that uses bagging to subset the training data into smaller subsets and takes a random subset of their features (known as \"feature bagging\"). Randomly sampling the feature variables helps control the impact of a feature highly-correlated with the target variable that would, in turn, cause the trees to become highly correlated with each other. This technique also allows us to measure the importance of the variables in their relationship to the target. As we saw in the last section, our Random Forest model indicates that attorney access and claim age are most important in predicting auto bodily injury losses."
   ]
  },
  {
   "cell_type": "code",
   "execution_count": 2,
   "metadata": {},
   "outputs": [
    {
     "name": "stdout",
     "output_type": "stream",
     "text": [
      "\n",
      "Call:\n",
      " randomForest(x = x_train, y = y_train, xtest = x_test, ytest = y_test,      ntree = 500) \n",
      "               Type of random forest: regression\n",
      "                     Number of trees: 500\n",
      "No. of variables tried at each split: 2\n",
      "\n",
      "          Mean of squared residuals: 1.506887\n",
      "                    % Var explained: 29.18\n",
      "                       Test set MSE: 1.5\n",
      "                    % Var explained: 34.1\n"
     ]
    }
   ],
   "source": [
    "suppressMessages(library(randomForest))\n",
    "\n",
    "# Fit Random Forest model and view model summary\n",
    "rf_model <- randomForest(x_train, y_train, x_test, y_test, ntree=500)\n",
    "print(rf_model)"
   ]
  },
  {
   "cell_type": "code",
   "execution_count": 3,
   "metadata": {},
   "outputs": [
    {
     "data": {
      "text/html": [
       "<ol class=list-inline>\n",
       "\t<li>'6 1.49685097189245'</li>\n",
       "\t<li>'3 1.50923117697851'</li>\n",
       "\t<li>'1 1.66873420023139'</li>\n",
       "</ol>\n"
      ],
      "text/latex": [
       "\\begin{enumerate*}\n",
       "\\item '6 1.49685097189245'\n",
       "\\item '3 1.50923117697851'\n",
       "\\item '1 1.66873420023139'\n",
       "\\end{enumerate*}\n"
      ],
      "text/markdown": [
       "1. '6 1.49685097189245'\n",
       "2. '3 1.50923117697851'\n",
       "3. '1 1.66873420023139'\n",
       "\n",
       "\n"
      ],
      "text/plain": [
       "[1] \"6 1.49685097189245\" \"3 1.50923117697851\" \"1 1.66873420023139\""
      ]
     },
     "metadata": {},
     "output_type": "display_data"
    }
   ],
   "source": [
    "# Tune number of features with cross validation to reduce model error\n",
    "rf_cv <- rfcv(x_train, y_train, cv.fold=5)\n",
    "paste(rf_cv$n.var, rf_cv$error.cv)"
   ]
  },
  {
   "cell_type": "code",
   "execution_count": 4,
   "metadata": {},
   "outputs": [
    {
     "data": {
      "image/png": "[encoded data removed]",
      "text/plain": [
       "Plot with title \"rf_model\""
      ]
     },
     "metadata": {},
     "output_type": "display_data"
    }
   ],
   "source": [
    "# Plot variable importance\n",
    "varImpPlot(rf_model, sort=TRUE)"
   ]
  },
  {
   "cell_type": "code",
   "execution_count": 5,
   "metadata": {},
   "outputs": [
    {
     "data": {
      "text/html": [
       "'RandomForest RMSE: 1.2448'"
      ],
      "text/latex": [
       "'RandomForest RMSE: 1.2448'"
      ],
      "text/markdown": [
       "'RandomForest RMSE: 1.2448'"
      ],
      "text/plain": [
       "[1] \"RandomForest RMSE: 1.2448\""
      ]
     },
     "metadata": {},
     "output_type": "display_data"
    }
   ],
   "source": [
    "suppressWarnings(library(Metrics))\n",
    "\n",
    "# Make model predictions against test data\n",
    "rf_model2 <- randomForest(x_train, y_train, x_test, y_test, ntree=500, mtry=3, keep.forest=TRUE)\n",
    "rf_preds <- predict(rf_model2, x_test)\n",
    "paste(\"RandomForest RMSE:\", round(rmse(y_test, rf_preds), 4))"
   ]
  },
  {
   "cell_type": "markdown",
   "metadata": {},
   "source": [
    "## Gradient Boosting Machine (GBM)\n",
    "\n",
    "Gradient Boosting Machines uses boosting and the <b>gradient descent</b> optimization method to iteratively build stronger learners and combine their predictions into a final output. Gradient descent uses a learning rate (the <b>shrinkage</b> parameter in the gbm package) to adjust the parameters for each learner to minimize the model's loss function to its globabl minimum value (_i.e._, convergence). Like Random Forest models, GBM models use decision tree models as learners."
   ]
  },
  {
   "cell_type": "code",
   "execution_count": 6,
   "metadata": {},
   "outputs": [
    {
     "name": "stdout",
     "output_type": "stream",
     "text": [
      "Iter   TrainDeviance   ValidDeviance   StepSize   Improve\n",
      "     1        1.7841             nan     0.5000    0.3437\n",
      "     2        1.6585             nan     0.5000    0.1170\n",
      "     3        1.5646             nan     0.5000    0.0899\n",
      "     4        1.5301             nan     0.5000    0.0388\n",
      "     5        1.5125             nan     0.5000    0.0102\n",
      "     6        1.4936             nan     0.5000    0.0009\n",
      "     7        1.4702             nan     0.5000    0.0202\n",
      "     8        1.4711             nan     0.5000   -0.0091\n",
      "     9        1.4683             nan     0.5000   -0.0040\n",
      "    10        1.4695             nan     0.5000   -0.0152\n",
      "    20        1.4503             nan     0.5000   -0.0101\n",
      "    40        1.4278             nan     0.5000   -0.0168\n",
      "    60        1.4243             nan     0.5000   -0.0026\n",
      "    80        1.4237             nan     0.5000   -0.0040\n",
      "   100        1.4213             nan     0.5000   -0.0150\n",
      "\n"
     ]
    },
    {
     "data": {
      "text/html": [
       "<table>\n",
       "<thead><tr><th></th><th scope=col>var</th><th scope=col>rel.inf</th></tr></thead>\n",
       "<tbody>\n",
       "\t<tr><th scope=row>NORM_CLMAGE</th><td>NORM_CLMAGE</td><td>55.173467  </td></tr>\n",
       "\t<tr><th scope=row>ATTORNEY</th><td>ATTORNEY   </td><td>34.617352  </td></tr>\n",
       "\t<tr><th scope=row>MARITAL</th><td>MARITAL    </td><td> 3.589756  </td></tr>\n",
       "\t<tr><th scope=row>CLMSEX</th><td>CLMSEX     </td><td> 2.328185  </td></tr>\n",
       "\t<tr><th scope=row>CLMINSUR</th><td>CLMINSUR   </td><td> 2.175036  </td></tr>\n",
       "\t<tr><th scope=row>SEATBELT</th><td>SEATBELT   </td><td> 2.116204  </td></tr>\n",
       "</tbody>\n",
       "</table>\n"
      ],
      "text/latex": [
       "\\begin{tabular}{r|ll}\n",
       "  & var & rel.inf\\\\\n",
       "\\hline\n",
       "\tNORM\\_CLMAGE & NORM\\_CLMAGE & 55.173467    \\\\\n",
       "\tATTORNEY & ATTORNEY    & 34.617352  \\\\\n",
       "\tMARITAL & MARITAL     &  3.589756  \\\\\n",
       "\tCLMSEX & CLMSEX      &  2.328185  \\\\\n",
       "\tCLMINSUR & CLMINSUR    &  2.175036  \\\\\n",
       "\tSEATBELT & SEATBELT    &  2.116204  \\\\\n",
       "\\end{tabular}\n"
      ],
      "text/markdown": [
       "\n",
       "| <!--/--> | var | rel.inf | \n",
       "|---|---|---|---|---|---|\n",
       "| NORM_CLMAGE | NORM_CLMAGE | 55.173467   | \n",
       "| ATTORNEY | ATTORNEY    | 34.617352   | \n",
       "| MARITAL | MARITAL     |  3.589756   | \n",
       "| CLMSEX | CLMSEX      |  2.328185   | \n",
       "| CLMINSUR | CLMINSUR    |  2.175036   | \n",
       "| SEATBELT | SEATBELT    |  2.116204   | \n",
       "\n",
       "\n"
      ],
      "text/plain": [
       "            var         rel.inf  \n",
       "NORM_CLMAGE NORM_CLMAGE 55.173467\n",
       "ATTORNEY    ATTORNEY    34.617352\n",
       "MARITAL     MARITAL      3.589756\n",
       "CLMSEX      CLMSEX       2.328185\n",
       "CLMINSUR    CLMINSUR     2.175036\n",
       "SEATBELT    SEATBELT     2.116204"
      ]
     },
     "metadata": {},
     "output_type": "display_data"
    },
    {
     "data": {
      "image/png": "[encoded data removed]",
      "text/plain": [
       "plot without title"
      ]
     },
     "metadata": {},
     "output_type": "display_data"
    }
   ],
   "source": [
    "suppressMessages(library(gbm))\n",
    "\n",
    "# Fit GBM model and print summary\n",
    "gbm <- gbm.fit(x_train, y_train, distribution=\"gaussian\", n.trees=100,\n",
    "           shrinkage=0.5, bag.fraction=0.5)\n",
    "summary(gbm)"
   ]
  },
  {
   "cell_type": "code",
   "execution_count": 7,
   "metadata": {},
   "outputs": [
    {
     "name": "stderr",
     "output_type": "stream",
     "text": [
      "Warning message in gbm.perf(gbm, method = \"OOB\"):\n",
      "\"OOB generally underestimates the optimal number of iterations although predictive performance is reasonably competitive. Using cv.folds>0 when calling gbm usually results in improved predictive performance.\""
     ]
    },
    {
     "data": {
      "text/html": [
       "'Best iteration: 11'"
      ],
      "text/latex": [
       "'Best iteration: 11'"
      ],
      "text/markdown": [
       "'Best iteration: 11'"
      ],
      "text/plain": [
       "[1] \"Best iteration: 11\""
      ]
     },
     "metadata": {},
     "output_type": "display_data"
    },
    {
     "data": {
      "image/png": "[encoded data removed]",
      "text/plain": [
       "plot without title"
      ]
     },
     "metadata": {},
     "output_type": "display_data"
    },
    {
     "data": {
      "text/html": [
       "<table>\n",
       "<thead><tr><th></th><th scope=col>var</th><th scope=col>rel.inf</th></tr></thead>\n",
       "<tbody>\n",
       "\t<tr><th scope=row>ATTORNEY</th><td>ATTORNEY   </td><td>64.3876707 </td></tr>\n",
       "\t<tr><th scope=row>NORM_CLMAGE</th><td>NORM_CLMAGE</td><td>31.5203053 </td></tr>\n",
       "\t<tr><th scope=row>SEATBELT</th><td>SEATBELT   </td><td> 3.4398616 </td></tr>\n",
       "\t<tr><th scope=row>CLMINSUR</th><td>CLMINSUR   </td><td> 0.6521625 </td></tr>\n",
       "\t<tr><th scope=row>CLMSEX</th><td>CLMSEX     </td><td> 0.0000000 </td></tr>\n",
       "\t<tr><th scope=row>MARITAL</th><td>MARITAL    </td><td> 0.0000000 </td></tr>\n",
       "</tbody>\n",
       "</table>\n"
      ],
      "text/latex": [
       "\\begin{tabular}{r|ll}\n",
       "  & var & rel.inf\\\\\n",
       "\\hline\n",
       "\tATTORNEY & ATTORNEY    & 64.3876707 \\\\\n",
       "\tNORM\\_CLMAGE & NORM\\_CLMAGE & 31.5203053   \\\\\n",
       "\tSEATBELT & SEATBELT    &  3.4398616 \\\\\n",
       "\tCLMINSUR & CLMINSUR    &  0.6521625 \\\\\n",
       "\tCLMSEX & CLMSEX      &  0.0000000 \\\\\n",
       "\tMARITAL & MARITAL     &  0.0000000 \\\\\n",
       "\\end{tabular}\n"
      ],
      "text/markdown": [
       "\n",
       "| <!--/--> | var | rel.inf | \n",
       "|---|---|---|---|---|---|\n",
       "| ATTORNEY | ATTORNEY    | 64.3876707  | \n",
       "| NORM_CLMAGE | NORM_CLMAGE | 31.5203053  | \n",
       "| SEATBELT | SEATBELT    |  3.4398616  | \n",
       "| CLMINSUR | CLMINSUR    |  0.6521625  | \n",
       "| CLMSEX | CLMSEX      |  0.0000000  | \n",
       "| MARITAL | MARITAL     |  0.0000000  | \n",
       "\n",
       "\n"
      ],
      "text/plain": [
       "            var         rel.inf   \n",
       "ATTORNEY    ATTORNEY    64.3876707\n",
       "NORM_CLMAGE NORM_CLMAGE 31.5203053\n",
       "SEATBELT    SEATBELT     3.4398616\n",
       "CLMINSUR    CLMINSUR     0.6521625\n",
       "CLMSEX      CLMSEX       0.0000000\n",
       "MARITAL     MARITAL      0.0000000"
      ]
     },
     "metadata": {},
     "output_type": "display_data"
    },
    {
     "data": {
      "image/png": "[encoded data removed]",
      "text/plain": [
       "plot without title"
      ]
     },
     "metadata": {},
     "output_type": "display_data"
    }
   ],
   "source": [
    "# Use out-of-bag estimator (OOB) to find optimal number of iterations/trees\n",
    "best_iter <- gbm.perf(gbm, method=\"OOB\")\n",
    "paste(\"Best iteration:\", best_iter)\n",
    "summary(gbm, n.trees=best_iter)"
   ]
  },
  {
   "cell_type": "code",
   "execution_count": 8,
   "metadata": {},
   "outputs": [
    {
     "data": {
      "text/html": [
       "'GBM RMSE: 1.2223'"
      ],
      "text/latex": [
       "'GBM RMSE: 1.2223'"
      ],
      "text/markdown": [
       "'GBM RMSE: 1.2223'"
      ],
      "text/plain": [
       "[1] \"GBM RMSE: 1.2223\""
      ]
     },
     "metadata": {},
     "output_type": "display_data"
    }
   ],
   "source": [
    "# Predict target for test data\n",
    "gbm_preds <- predict(gbm, x_test, best_iter)\n",
    "paste(\"GBM RMSE:\", round(rmse(y_test, gbm_preds), 4))"
   ]
  },
  {
   "cell_type": "markdown",
   "metadata": {},
   "source": [
    "## XGBOOST\n",
    "\n",
    "Extreme Gradient Boosting, or XGBoost, adds a regularization term to the objective function control model complexity and leverages the available computational and memory resources for faster performance. The regularization helps avoid model overfitting and stronger hardware optimization enables us to test lower learning rates (the <b>eta</b> parameter in XGBoost) within a reasonable timeframe. XGBoost also allows L1 and L2 regularization in training. With some parameter tuning, we can use this model to outperform the others and achieve the lowest root mean squared error."
   ]
  },
  {
   "cell_type": "code",
   "execution_count": 9,
   "metadata": {},
   "outputs": [],
   "source": [
    "library(xgboost)\n",
    "\n",
    "# Fit model to training data\n",
    "dtrain <- xgb.DMatrix(x_train, label=y_train)\n",
    "cntrl = list(eta=0.01, max_depth=3, gamma=0.3)\n",
    "xgb <- xgb.train(params=cntrl, data=dtrain, nrounds=500)"
   ]
  },
  {
   "cell_type": "code",
   "execution_count": 10,
   "metadata": {},
   "outputs": [
    {
     "name": "stdout",
     "output_type": "stream",
     "text": [
      "[1]\ttrain-rmse:1.347913+0.008022\ttest-rmse:1.380803+0.033485 \n",
      "[2]\ttrain-rmse:1.259968+0.006047\ttest-rmse:1.322579+0.027855 \n",
      "[3]\ttrain-rmse:1.205920+0.007300\ttest-rmse:1.294853+0.029368 \n",
      "[4]\ttrain-rmse:1.170567+0.006580\ttest-rmse:1.282010+0.029056 \n",
      "[5]\ttrain-rmse:1.147813+0.008437\ttest-rmse:1.281277+0.026704 \n",
      "[6]\ttrain-rmse:1.131539+0.008752\ttest-rmse:1.284291+0.026284 \n",
      "[7]\ttrain-rmse:1.117117+0.010963\ttest-rmse:1.287854+0.027408 \n",
      "[8]\ttrain-rmse:1.105062+0.012578\ttest-rmse:1.294920+0.029172 \n",
      "[9]\ttrain-rmse:1.096223+0.011898\ttest-rmse:1.296898+0.030535 \n",
      "[10]\ttrain-rmse:1.088055+0.009963\ttest-rmse:1.300770+0.033431 \n",
      "##### xgb.cv 5-folds\n",
      " iter train_rmse_mean train_rmse_std test_rmse_mean test_rmse_std\n",
      "    1        1.347913    0.008022137       1.380803    0.03348468\n",
      "    2        1.259968    0.006046821       1.322579    0.02785495\n",
      "    3        1.205920    0.007300221       1.294853    0.02936761\n",
      "    4        1.170567    0.006579842       1.282010    0.02905632\n",
      "    5        1.147813    0.008436636       1.281277    0.02670382\n",
      "    6        1.131539    0.008751743       1.284291    0.02628368\n",
      "    7        1.117117    0.010962802       1.287854    0.02740775\n",
      "    8        1.105062    0.012577518       1.294920    0.02917247\n",
      "    9        1.096223    0.011898193       1.296898    0.03053487\n",
      "   10        1.088055    0.009962583       1.300770    0.03343125\n"
     ]
    }
   ],
   "source": [
    "# Use cross validation for model tuning and testing\n",
    "cv <- xgb.cv(data=dtrain, nrounds=10, nfold=5, metrics=\"rmse\", objective=\"reg:linear\")\n",
    "print(cv)"
   ]
  },
  {
   "cell_type": "code",
   "execution_count": 11,
   "metadata": {},
   "outputs": [
    {
     "name": "stdout",
     "output_type": "stream",
     "text": [
      "       Feature        Gain       Cover  Frequency\n",
      "1:    ATTORNEY 0.618168632 0.215374605 0.10366032\n",
      "2: NORM_CLMAGE 0.322502180 0.580265116 0.60497804\n",
      "3:     MARITAL 0.036615406 0.077137022 0.14582723\n",
      "4:    SEATBELT 0.016286166 0.115747561 0.07525622\n",
      "5:      CLMSEX 0.004340028 0.008988911 0.05212299\n",
      "6:    CLMINSUR 0.002087589 0.002486785 0.01815520\n"
     ]
    },
    {
     "data": {},
     "metadata": {},
     "output_type": "display_data"
    },
    {
     "data": {
      "image/png": "[encoded data removed]",
      "text/plain": [
       "plot without title"
      ]
     },
     "metadata": {},
     "output_type": "display_data"
    }
   ],
   "source": [
    "suppressMessages(library(ggplot2))\n",
    "\n",
    "# Show and plot feature importance\n",
    "importances <- xgb.importance(colnames(x_train), xgb)\n",
    "print(importances)\n",
    "xgb.ggplot.importance(importances)"
   ]
  },
  {
   "cell_type": "code",
   "execution_count": 12,
   "metadata": {},
   "outputs": [],
   "source": [
    "# Fit better model based on parameter experimentation\n",
    "cntrl = list(eta=0.01, max_depth=2, alpha=1.0, gamma=1.0)\n",
    "xgb <- xgb.train(params=cntrl, data=dtrain, nrounds=1000)"
   ]
  },
  {
   "cell_type": "code",
   "execution_count": 13,
   "metadata": {},
   "outputs": [
    {
     "data": {
      "text/html": [
       "'XGBoost RMSE: 1.0981'"
      ],
      "text/latex": [
       "'XGBoost RMSE: 1.0981'"
      ],
      "text/markdown": [
       "'XGBoost RMSE: 1.0981'"
      ],
      "text/plain": [
       "[1] \"XGBoost RMSE: 1.0981\""
      ]
     },
     "metadata": {},
     "output_type": "display_data"
    }
   ],
   "source": [
    "# Make model predictions against test data\n",
    "xgb_preds <- predict(xgb, x_test)\n",
    "paste(\"XGBoost RMSE:\", round(rmse(y_test, xgb_preds), 4))"
   ]
  },
  {
   "cell_type": "markdown",
   "metadata": {},
   "source": [
    "## Going Further: Other Models and Techniques\n",
    "\n",
    "There are many other models available for performing regression analysis (e.g., neural networks), as well as classification, clustering, natural language processing, association analysis, and other applications. These models and techniques can play a strong role in improving various insurance applications such as underwriting, market segmentation, and risk engineering.\n",
    "\n",
    "Another useful ensemble techinque, known as stacking, combines the predictions from several models and uses them as input attribute data into another model. The prediction ensemble can be used independently from or concatenated to the original training data, depending on which final model you're using and its control on multicollinearity. Feature selection methods and dimensionality reduction techniques (_e.g._, Principal Component Analysis) can also help.\n",
    "\n",
    "Sometimes complex models and/or large datasets cannot run on a single core or machine in a stable and timely manner. Great packages like XGBoost and H2O allow users to leverage parallel processing and Hadoop-based frameworks to divide this labor across several cores or machines."
   ]
  }
 ],
 "metadata": {
  "kernelspec": {
   "display_name": "R",
   "language": "R",
   "name": "ir"
  },
  "language_info": {
   "codemirror_mode": "r",
   "file_extension": ".r",
   "mimetype": "text/x-r-source",
   "name": "R",
   "pygments_lexer": "r",
   "version": "3.3.2"
  }
 },
 "nbformat": 4,
 "nbformat_minor": 2
}
