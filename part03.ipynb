{
 "cells": [
  {
   "cell_type": "markdown",
   "metadata": {},
   "source": [
    "# Part 3: Mixed Effects Regression Models\n",
    "<b>Author</b>: Sterling Cutler\n",
    "<br>\n",
    "<b>Date</b>: March 22, 2018"
   ]
  },
  {
   "cell_type": "markdown",
   "metadata": {},
   "source": [
    "## Mixed Effects\n",
    "\n",
    "One important consideration in using GLM's is that the model assumes the data is independent. In our auto bodily injury dataset, we are assuming the no claimant is represented in more than one claim. If a claimant had filed two different claims, then we should ask ourselves, \"How might the first claim have impacted the likelihood of experiencing the second? How independent are these events?\"\n",
    "\n",
    "Some possible explanations for why these events may not be independent could include:\n",
    "- first accident left claimant with impaired driving abilities (physical and/or mental)\n",
    "- claimant is continuing poor driving habits that resulted in first accident\n",
    "- claimant is committing multiple cases of insurance fraud\n",
    "\n",
    "This is somewhat of a simplification, but it demonstrates the importance of understanding why models should try to capture nonindependence where it may be present. Mixed effects models handle this by accounting for random effects (or variance components).\n",
    "\n",
    "Let's load our dataset."
   ]
  },
  {
   "cell_type": "code",
   "execution_count": 4,
   "metadata": {},
   "outputs": [
    {
     "name": "stdout",
     "output_type": "stream",
     "text": [
      "Dataset shape: 1339 7"
     ]
    },
    {
     "data": {
      "text/html": [
       "<table>\n",
       "<thead><tr><th scope=col>ATTORNEY</th><th scope=col>CLMSEX</th><th scope=col>MARITAL</th><th scope=col>CLMINSUR</th><th scope=col>SEATBELT</th><th scope=col>NORM_CLMAGE</th><th scope=col>TARGET</th></tr></thead>\n",
       "<tbody>\n",
       "\t<tr><td>1         </td><td>1         </td><td>2         </td><td>2         </td><td>1         </td><td> 1.1160859</td><td> 3.553632 </td></tr>\n",
       "\t<tr><td>2         </td><td>2         </td><td>2         </td><td>1         </td><td>1         </td><td>-0.2723103</td><td> 2.388029 </td></tr>\n",
       "\t<tr><td>2         </td><td>1         </td><td>2         </td><td>2         </td><td>1         </td><td>-1.7238153</td><td>-1.108663 </td></tr>\n",
       "\t<tr><td>1         </td><td>1         </td><td>1         </td><td>2         </td><td>2         </td><td>-0.0198746</td><td> 2.401253 </td></tr>\n",
       "\t<tr><td>2         </td><td>1         </td><td>4         </td><td>2         </td><td>1         </td><td>-0.1460924</td><td>-1.980502 </td></tr>\n",
       "\t<tr><td>1         </td><td>2         </td><td>1         </td><td>2         </td><td>1         </td><td> 0.1694521</td><td>-1.174414 </td></tr>\n",
       "</tbody>\n",
       "</table>\n"
      ],
      "text/latex": [
       "\\begin{tabular}{r|lllllll}\n",
       " ATTORNEY & CLMSEX & MARITAL & CLMINSUR & SEATBELT & NORM\\_CLMAGE & TARGET\\\\\n",
       "\\hline\n",
       "\t 1          & 1          & 2          & 2          & 1          &  1.1160859 &  3.553632 \\\\\n",
       "\t 2          & 2          & 2          & 1          & 1          & -0.2723103 &  2.388029 \\\\\n",
       "\t 2          & 1          & 2          & 2          & 1          & -1.7238153 & -1.108663 \\\\\n",
       "\t 1          & 1          & 1          & 2          & 2          & -0.0198746 &  2.401253 \\\\\n",
       "\t 2          & 1          & 4          & 2          & 1          & -0.1460924 & -1.980502 \\\\\n",
       "\t 1          & 2          & 1          & 2          & 1          &  0.1694521 & -1.174414 \\\\\n",
       "\\end{tabular}\n"
      ],
      "text/markdown": [
       "\n",
       "ATTORNEY | CLMSEX | MARITAL | CLMINSUR | SEATBELT | NORM_CLMAGE | TARGET | \n",
       "|---|---|---|---|---|---|\n",
       "| 1          | 1          | 2          | 2          | 1          |  1.1160859 |  3.553632  | \n",
       "| 2          | 2          | 2          | 1          | 1          | -0.2723103 |  2.388029  | \n",
       "| 2          | 1          | 2          | 2          | 1          | -1.7238153 | -1.108663  | \n",
       "| 1          | 1          | 1          | 2          | 2          | -0.0198746 |  2.401253  | \n",
       "| 2          | 1          | 4          | 2          | 1          | -0.1460924 | -1.980502  | \n",
       "| 1          | 2          | 1          | 2          | 1          |  0.1694521 | -1.174414  | \n",
       "\n",
       "\n"
      ],
      "text/plain": [
       "  ATTORNEY CLMSEX MARITAL CLMINSUR SEATBELT NORM_CLMAGE TARGET   \n",
       "1 1        1      2       2        1         1.1160859   3.553632\n",
       "2 2        2      2       1        1        -0.2723103   2.388029\n",
       "3 2        1      2       2        1        -1.7238153  -1.108663\n",
       "4 1        1      1       2        2        -0.0198746   2.401253\n",
       "5 2        1      4       2        1        -0.1460924  -1.980502\n",
       "6 1        2      1       2        1         0.1694521  -1.174414"
      ]
     },
     "metadata": {},
     "output_type": "display_data"
    }
   ],
   "source": [
    "# Load dataset and print first six rows\n",
    "df <- read.csv(\"ABI_data.csv\")\n",
    "cat('Dataset shape:', dim(df))\n",
    "head(df)"
   ]
  },
  {
   "cell_type": "markdown",
   "metadata": {},
   "source": [
    "#### Creating random effects\n",
    "Our dataset is assumed to have independent data, where all claims are randomly selected from the population. We will simulate random effects by introducing a state variable. How might the mean and variance of claims for a certain state related to the population of claims in our data? Any deviation between the two could be considred a random effect. While it may not seem that states \"cause\" claims, think about how certain elements specific to that state (e.g., population, traffic density, speed limits) may affect the number of auto accidents that occur."
   ]
  },
  {
   "cell_type": "code",
   "execution_count": 14,
   "metadata": {},
   "outputs": [
    {
     "data": {
      "text/html": [
       "<table>\n",
       "<thead><tr><th scope=col>ATTORNEY</th><th scope=col>CLMSEX</th><th scope=col>MARITAL</th><th scope=col>CLMINSUR</th><th scope=col>SEATBELT</th><th scope=col>NORM_CLMAGE</th><th scope=col>TARGET</th><th scope=col>states</th></tr></thead>\n",
       "<tbody>\n",
       "\t<tr><td>1         </td><td>1         </td><td>2         </td><td>2         </td><td>1         </td><td> 1.1160859</td><td> 3.553632 </td><td>A         </td></tr>\n",
       "\t<tr><td>2         </td><td>2         </td><td>2         </td><td>1         </td><td>1         </td><td>-0.2723103</td><td> 2.388029 </td><td>A         </td></tr>\n",
       "\t<tr><td>2         </td><td>1         </td><td>2         </td><td>2         </td><td>1         </td><td>-1.7238153</td><td>-1.108663 </td><td>A         </td></tr>\n",
       "\t<tr><td>1         </td><td>1         </td><td>1         </td><td>2         </td><td>2         </td><td>-0.0198746</td><td> 2.401253 </td><td>A         </td></tr>\n",
       "\t<tr><td>2         </td><td>1         </td><td>4         </td><td>2         </td><td>1         </td><td>-0.1460924</td><td>-1.980502 </td><td>D         </td></tr>\n",
       "\t<tr><td>1         </td><td>2         </td><td>1         </td><td>2         </td><td>1         </td><td> 0.1694521</td><td>-1.174414 </td><td>A         </td></tr>\n",
       "</tbody>\n",
       "</table>\n"
      ],
      "text/latex": [
       "\\begin{tabular}{r|llllllll}\n",
       " ATTORNEY & CLMSEX & MARITAL & CLMINSUR & SEATBELT & NORM\\_CLMAGE & TARGET & states\\\\\n",
       "\\hline\n",
       "\t 1          & 1          & 2          & 2          & 1          &  1.1160859 &  3.553632  & A         \\\\\n",
       "\t 2          & 2          & 2          & 1          & 1          & -0.2723103 &  2.388029  & A         \\\\\n",
       "\t 2          & 1          & 2          & 2          & 1          & -1.7238153 & -1.108663  & A         \\\\\n",
       "\t 1          & 1          & 1          & 2          & 2          & -0.0198746 &  2.401253  & A         \\\\\n",
       "\t 2          & 1          & 4          & 2          & 1          & -0.1460924 & -1.980502  & D         \\\\\n",
       "\t 1          & 2          & 1          & 2          & 1          &  0.1694521 & -1.174414  & A         \\\\\n",
       "\\end{tabular}\n"
      ],
      "text/markdown": [
       "\n",
       "ATTORNEY | CLMSEX | MARITAL | CLMINSUR | SEATBELT | NORM_CLMAGE | TARGET | states | \n",
       "|---|---|---|---|---|---|\n",
       "| 1          | 1          | 2          | 2          | 1          |  1.1160859 |  3.553632  | A          | \n",
       "| 2          | 2          | 2          | 1          | 1          | -0.2723103 |  2.388029  | A          | \n",
       "| 2          | 1          | 2          | 2          | 1          | -1.7238153 | -1.108663  | A          | \n",
       "| 1          | 1          | 1          | 2          | 2          | -0.0198746 |  2.401253  | A          | \n",
       "| 2          | 1          | 4          | 2          | 1          | -0.1460924 | -1.980502  | D          | \n",
       "| 1          | 2          | 1          | 2          | 1          |  0.1694521 | -1.174414  | A          | \n",
       "\n",
       "\n"
      ],
      "text/plain": [
       "  ATTORNEY CLMSEX MARITAL CLMINSUR SEATBELT NORM_CLMAGE TARGET    states\n",
       "1 1        1      2       2        1         1.1160859   3.553632 A     \n",
       "2 2        2      2       1        1        -0.2723103   2.388029 A     \n",
       "3 2        1      2       2        1        -1.7238153  -1.108663 A     \n",
       "4 1        1      1       2        2        -0.0198746   2.401253 A     \n",
       "5 2        1      4       2        1        -0.1460924  -1.980502 D     \n",
       "6 1        2      1       2        1         0.1694521  -1.174414 A     "
      ]
     },
     "metadata": {},
     "output_type": "display_data"
    }
   ],
   "source": [
    "# Add a coded state variable\n",
    "states <- c('A', 'B', 'C', 'D', 'E')\n",
    "n <- dim(df)[1]\n",
    "df$states <- sample(states, size = n, replace=TRUE, prob=c(0.4, 0.35, 0.15, 0.09, 0.01))\n",
    "head(df)"
   ]
  },
  {
   "cell_type": "markdown",
   "metadata": {},
   "source": [
    "## GLMM\n",
    "Doc: https://cran.r-project.org/web/packages/glmm/glmm.pdf\n",
    "\n",
    "Link: https://stats.idre.ucla.edu/other/mult-pkg/introduction-to-generalized-linear-mixed-models/\n",
    "\n",
    "Generalized linear mixed models (or GLMMs) are an extension of linear mixed models to allow response variables from different distributions, such as binary responses. Alternatively, you could think of GLMMs as an extension of generalized linear models (e.g., logistic regression) to \n",
    "include both fixed and random effects (hence mixed models). The general form of the model (in matrix notation) is: $y=X\\beta+Z\\mu+\\epsilon$\n",
    "Where $y$ is a $Nx1$ column vector, the outcome variable; $X$ is a $Nxp$ matrix of the $p$ predictor variables; $\\beta$ is a $px1$ column vector of the fixed-effects regression coefficients (the $\\beta$ s); $Z$ is the $Nxq$ design matrix for the $q$ random effects (the random complement to the fixed $X$); $\\mu$ is a $qX1$ vector of the random effects (the random complement to the fixed $\\beta$); and $\\epsilon$ is a $Nx1$ column vector of the residuals, that part of $y$ that is not explained by the model $X\\beta+Z\\mu$"
   ]
  },
  {
   "cell_type": "code",
   "execution_count": null,
   "metadata": {},
   "outputs": [],
   "source": [
    "library(glmm)\n",
    "\n",
    "glmm <- glmm(fixed=\"object of class 'formula'\", \n",
    "             random=\"object of class 'formula'\",\n",
    "             varcomps.names=\"The names of the distinct variance components\" +\n",
    "             \" in order of `varcomps.equal`\",\n",
    "             family.glmm=\"bernoulli.glmm\")\n",
    "\n",
    "summary(glmm)"
   ]
  },
  {
   "cell_type": "markdown",
   "metadata": {},
   "source": [
    "## HGLM\n",
    "Doc: https://cran.r-project.org/web/packages/hglm/hglm.pdf\n",
    "\n",
    "Link: https://www.diva-portal.org/smash/get/diva2:685966/FULLTEXT02.pdf"
   ]
  },
  {
   "cell_type": "code",
   "execution_count": null,
   "metadata": {},
   "outputs": [],
   "source": [
    "library(hglm)\n",
    "\n",
    "hglm <- hglm(X=\"matrix for fixed effects\", \n",
    "             y=\"dependent variable\",\n",
    "             Z=\"matrix for random effects\",\n",
    "             family = gaussian(link = identity),\n",
    "             rand.family = gaussian(link = identity),\n",
    "             conv=1e-6,\n",
    "             maxit=50)\n",
    "\n",
    "summary(hglm)"
   ]
  },
  {
   "cell_type": "markdown",
   "metadata": {},
   "source": [
    "## LME\n",
    "Doc: https://cran.r-project.org/web/packages/nlme/nlme.pdf\n",
    "\n",
    "Link: http://www.bodowinter.com/tutorial/bw_LME_tutorial2.pdf"
   ]
  },
  {
   "cell_type": "code",
   "execution_count": null,
   "metadata": {},
   "outputs": [],
   "source": [
    "library(nlme)\n",
    "\n",
    "lme <- lme(fixed=\"two-sided linear formula of Y ~ X form\", \n",
    "           data=AutoBi, \n",
    "           random=\"two-sided formula of form ~ x1 + ... + xn | g1/.../gm\")\n",
    "\n",
    "summary(lme)"
   ]
  },
  {
   "cell_type": "markdown",
   "metadata": {},
   "source": [
    "## NLME\n",
    "Doc: https://cran.r-project.org/web/packages/nlme/nlme.pdf\n",
    "\n",
    "Link: http://lme4.r-forge.r-project.org/slides/2011-01-11-Madison/6NLMMH.pdf"
   ]
  },
  {
   "cell_type": "code",
   "execution_count": null,
   "metadata": {},
   "outputs": [],
   "source": [
    "nlme <- nlme(model=\"nonlinear model formula of Y ~ X form\", \n",
    "             data=AutoBi,\n",
    "             fixed=\"two-sided linear formula of Y ~ X form\", \n",
    "             random=\"two-sided formula of form ~ x1 + ... + xn | g1/.../gm\")\n",
    "\n",
    "summary(nlme)"
   ]
  },
  {
   "cell_type": "markdown",
   "metadata": {},
   "source": [
    "## Sources\n"
   ]
  }
 ],
 "metadata": {
  "kernelspec": {
   "display_name": "R",
   "language": "R",
   "name": "ir"
  },
  "language_info": {
   "codemirror_mode": "r",
   "file_extension": ".r",
   "mimetype": "text/x-r-source",
   "name": "R",
   "pygments_lexer": "r",
   "version": "3.4.1"
  }
 },
 "nbformat": 4,
 "nbformat_minor": 2
}
