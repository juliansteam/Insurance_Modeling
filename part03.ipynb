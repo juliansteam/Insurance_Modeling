{
 "cells": [
  {
   "cell_type": "markdown",
   "metadata": {},
   "source": [
    "# Part 3: Mixed Effects Models\n",
    "<b>Author</b>: Sterling Cutler\n",
    "<br>\n",
    "<b>Date</b>: March 22, 2018\n",
    "\n",
    "In the previous sections, we removed the claim number before fitting out data to the linear model. In doing so, we treated the dataset as a population when those select claims were truly a subset (sample) of the population. Fitting a model to a population of insurance data is most often infeasible and inefficient. Fitting a model to excessively large data can also lead to the problem of data dredging (or p-hacking), in which all the explanatory variables used in the model return significant when they often wouldn't be in practice.\n",
    "\n",
    "When dealing with a variable that comes from a probability distribution, in which there are infinite possible values, we are dealing with a random variable. Random variables have their own impact on model residuals than fixed-effect variables, so it useful to use a model that can capture these differences. Mixed effects models allow us to model data with fixed and random variables. We could use a mixed model on our previous dataset and specify claim number as a random variable, but instead let's focus on a more practical demonstration of how an insurance analyst may look at certain locations."
   ]
  },
  {
   "cell_type": "code",
   "execution_count": 1,
   "metadata": {},
   "outputs": [
    {
     "name": "stdout",
     "output_type": "stream",
     "text": [
      "'data.frame':\t67856 obs. of  11 variables:\n",
      " $ veh_value: num  1.06 1.03 3.26 4.14 0.72 2.01 1.6 1.47 0.52 0.38 ...\n",
      " $ exposure : num  0.304 0.649 0.569 0.318 0.649 ...\n",
      " $ clm      : int  0 0 0 0 0 0 0 0 0 0 ...\n",
      " $ numclaims: int  0 0 0 0 0 0 0 0 0 0 ...\n",
      " $ claimcst0: num  0 0 0 0 0 0 0 0 0 0 ...\n",
      " $ veh_body : Factor w/ 13 levels \"BUS\",\"CONVT\",..: 4 4 13 11 4 5 8 4 4 4 ...\n",
      " $ veh_age  : int  3 2 2 2 4 3 3 2 4 4 ...\n",
      " $ gender   : Factor w/ 2 levels \"F\",\"M\": 1 1 1 1 1 2 2 2 1 1 ...\n",
      " $ area     : Factor w/ 6 levels \"A\",\"B\",\"C\",\"D\",..: 3 1 5 4 3 3 1 2 1 2 ...\n",
      " $ agecat   : int  2 4 2 2 2 4 4 6 3 4 ...\n",
      " $ X_OBSTAT_: Factor w/ 1 level \"01101    0    0    0\": 1 1 1 1 1 1 1 1 1 1 ...\n"
     ]
    },
    {
     "data": {
      "text/html": [],
      "text/latex": [],
      "text/markdown": [],
      "text/plain": [
       "character(0)"
      ]
     },
     "metadata": {},
     "output_type": "display_data"
    },
    {
     "data": {
      "text/html": [
       "<table>\n",
       "<thead><tr><th scope=col>veh_value</th><th scope=col>exposure</th><th scope=col>clm</th><th scope=col>numclaims</th><th scope=col>claimcst0</th><th scope=col>veh_body</th><th scope=col>veh_age</th><th scope=col>gender</th><th scope=col>area</th><th scope=col>agecat</th><th scope=col>X_OBSTAT_</th></tr></thead>\n",
       "<tbody>\n",
       "\t<tr><td>1.06                </td><td>0.3039014           </td><td>0                   </td><td>0                   </td><td>0                   </td><td>HBACK               </td><td>3                   </td><td>F                   </td><td>C                   </td><td>2                   </td><td>01101    0    0    0</td></tr>\n",
       "\t<tr><td>1.03                </td><td>0.6488706           </td><td>0                   </td><td>0                   </td><td>0                   </td><td>HBACK               </td><td>2                   </td><td>F                   </td><td>A                   </td><td>4                   </td><td>01101    0    0    0</td></tr>\n",
       "\t<tr><td>3.26                </td><td>0.5694730           </td><td>0                   </td><td>0                   </td><td>0                   </td><td>UTE                 </td><td>2                   </td><td>F                   </td><td>E                   </td><td>2                   </td><td>01101    0    0    0</td></tr>\n",
       "\t<tr><td>4.14                </td><td>0.3175907           </td><td>0                   </td><td>0                   </td><td>0                   </td><td>STNWG               </td><td>2                   </td><td>F                   </td><td>D                   </td><td>2                   </td><td>01101    0    0    0</td></tr>\n",
       "\t<tr><td>0.72                </td><td>0.6488706           </td><td>0                   </td><td>0                   </td><td>0                   </td><td>HBACK               </td><td>4                   </td><td>F                   </td><td>C                   </td><td>2                   </td><td>01101    0    0    0</td></tr>\n",
       "\t<tr><td>2.01                </td><td>0.8542094           </td><td>0                   </td><td>0                   </td><td>0                   </td><td>HDTOP               </td><td>3                   </td><td>M                   </td><td>C                   </td><td>4                   </td><td>01101    0    0    0</td></tr>\n",
       "</tbody>\n",
       "</table>\n"
      ],
      "text/latex": [
       "\\begin{tabular}{r|lllllllllll}\n",
       " veh\\_value & exposure & clm & numclaims & claimcst0 & veh\\_body & veh\\_age & gender & area & agecat & X\\_OBSTAT\\_\\\\\n",
       "\\hline\n",
       "\t 1.06                 & 0.3039014            & 0                    & 0                    & 0                    & HBACK                & 3                    & F                    & C                    & 2                    & 01101    0    0    0\\\\\n",
       "\t 1.03                 & 0.6488706            & 0                    & 0                    & 0                    & HBACK                & 2                    & F                    & A                    & 4                    & 01101    0    0    0\\\\\n",
       "\t 3.26                 & 0.5694730            & 0                    & 0                    & 0                    & UTE                  & 2                    & F                    & E                    & 2                    & 01101    0    0    0\\\\\n",
       "\t 4.14                 & 0.3175907            & 0                    & 0                    & 0                    & STNWG                & 2                    & F                    & D                    & 2                    & 01101    0    0    0\\\\\n",
       "\t 0.72                 & 0.6488706            & 0                    & 0                    & 0                    & HBACK                & 4                    & F                    & C                    & 2                    & 01101    0    0    0\\\\\n",
       "\t 2.01                 & 0.8542094            & 0                    & 0                    & 0                    & HDTOP                & 3                    & M                    & C                    & 4                    & 01101    0    0    0\\\\\n",
       "\\end{tabular}\n"
      ],
      "text/markdown": [
       "\n",
       "veh_value | exposure | clm | numclaims | claimcst0 | veh_body | veh_age | gender | area | agecat | X_OBSTAT_ | \n",
       "|---|---|---|---|---|---|\n",
       "| 1.06                 | 0.3039014            | 0                    | 0                    | 0                    | HBACK                | 3                    | F                    | C                    | 2                    | 01101    0    0    0 | \n",
       "| 1.03                 | 0.6488706            | 0                    | 0                    | 0                    | HBACK                | 2                    | F                    | A                    | 4                    | 01101    0    0    0 | \n",
       "| 3.26                 | 0.5694730            | 0                    | 0                    | 0                    | UTE                  | 2                    | F                    | E                    | 2                    | 01101    0    0    0 | \n",
       "| 4.14                 | 0.3175907            | 0                    | 0                    | 0                    | STNWG                | 2                    | F                    | D                    | 2                    | 01101    0    0    0 | \n",
       "| 0.72                 | 0.6488706            | 0                    | 0                    | 0                    | HBACK                | 4                    | F                    | C                    | 2                    | 01101    0    0    0 | \n",
       "| 2.01                 | 0.8542094            | 0                    | 0                    | 0                    | HDTOP                | 3                    | M                    | C                    | 4                    | 01101    0    0    0 | \n",
       "\n",
       "\n"
      ],
      "text/plain": [
       "  veh_value exposure  clm numclaims claimcst0 veh_body veh_age gender area\n",
       "1 1.06      0.3039014 0   0         0         HBACK    3       F      C   \n",
       "2 1.03      0.6488706 0   0         0         HBACK    2       F      A   \n",
       "3 3.26      0.5694730 0   0         0         UTE      2       F      E   \n",
       "4 4.14      0.3175907 0   0         0         STNWG    2       F      D   \n",
       "5 0.72      0.6488706 0   0         0         HBACK    4       F      C   \n",
       "6 2.01      0.8542094 0   0         0         HDTOP    3       M      C   \n",
       "  agecat X_OBSTAT_           \n",
       "1 2      01101    0    0    0\n",
       "2 4      01101    0    0    0\n",
       "3 2      01101    0    0    0\n",
       "4 2      01101    0    0    0\n",
       "5 2      01101    0    0    0\n",
       "6 4      01101    0    0    0"
      ]
     },
     "metadata": {},
     "output_type": "display_data"
    }
   ],
   "source": [
    "# Load new dataset and inspect the data\n",
    "library(insuranceData)\n",
    "\n",
    "data(dataCar)\n",
    "str(dataCar)\n",
    "paste()\n",
    "head(dataCar)"
   ]
  },
  {
   "cell_type": "code",
   "execution_count": 6,
   "metadata": {},
   "outputs": [
    {
     "name": "stdout",
     "output_type": "stream",
     "text": [
      "New dataframe shape:  51514 12"
     ]
    },
    {
     "data": {
      "image/png": "[encoded data removed]",
      "text/plain": [
       "Plot with title \"Claim Cost\""
      ]
     },
     "metadata": {},
     "output_type": "display_data"
    }
   ],
   "source": [
    "# Subset data to claims cost < $500k and areas A, B, C, and F\n",
    "dataCar <- subset(dataCar, claimcst0 < 500)\n",
    "dataCar <- subset(dataCar, area %in% c(\"A\", \"B\", \"C\", \"F\"))\n",
    "cat('New dataframe shape: ', dim(dataCar))\n",
    "\n",
    "# View distribution of target variable\n",
    "dataCar$target <- as.integer(dataCar$claimcst0)\n",
    "hist(dataCar$target, main='Claim Cost')"
   ]
  },
  {
   "cell_type": "markdown",
   "metadata": {},
   "source": [
    "#### Variables of Interest\n",
    "Our target variable will be claim amount and our random variable will be area. The assumption of this study is that the six possible area levels are only a sample of all the levels available in the population, which is often the case. The fixed-effect variable we'll focus on in this case is vehicle age (others ignored for simplicity)."
   ]
  },
  {
   "cell_type": "code",
   "execution_count": 7,
   "metadata": {},
   "outputs": [
    {
     "data": {
      "text/html": [
       "'Vehicle Age:'"
      ],
      "text/latex": [
       "'Vehicle Age:'"
      ],
      "text/markdown": [
       "'Vehicle Age:'"
      ],
      "text/plain": [
       "[1] \"Vehicle Age:\""
      ]
     },
     "metadata": {},
     "output_type": "display_data"
    },
    {
     "data": {
      "text/plain": [
       "\n",
       "    1     2     3     4 \n",
       " 9247 12867 15110 14290 "
      ]
     },
     "metadata": {},
     "output_type": "display_data"
    },
    {
     "data": {
      "text/html": [],
      "text/latex": [],
      "text/markdown": [],
      "text/plain": [
       "character(0)"
      ]
     },
     "metadata": {},
     "output_type": "display_data"
    },
    {
     "data": {
      "text/html": [
       "'Area:'"
      ],
      "text/latex": [
       "'Area:'"
      ],
      "text/markdown": [
       "'Area:'"
      ],
      "text/plain": [
       "[1] \"Area:\""
      ]
     },
     "metadata": {},
     "output_type": "display_data"
    },
    {
     "data": {
      "text/plain": [
       "\n",
       "    A     B     C     D     E     F \n",
       "15652 12775 19691     0     0  3396 "
      ]
     },
     "metadata": {},
     "output_type": "display_data"
    }
   ],
   "source": [
    "# View stats/values of explantory variables\n",
    "paste('Vehicle Age:')\n",
    "table(dataCar$veh_age)\n",
    "paste()\n",
    "paste('Area:')\n",
    "table(dataCar$area)"
   ]
  },
  {
   "cell_type": "code",
   "execution_count": 8,
   "metadata": {},
   "outputs": [
    {
     "data": {},
     "metadata": {},
     "output_type": "display_data"
    },
    {
     "data": {
      "image/png": "[encoded data removed]",
      "text/plain": [
       "plot without title"
      ]
     },
     "metadata": {},
     "output_type": "display_data"
    }
   ],
   "source": [
    "# View target by vehicle age and area\n",
    "library(ggplot2)\n",
    "\n",
    "ggplot(dataCar, aes(x=target)) + geom_density() + facet_wrap(veh_age ~ area)"
   ]
  },
  {
   "cell_type": "markdown",
   "metadata": {},
   "source": [
    "#### Benchmark Model\n",
    "Let's start by fitting a simple GLM and not control for random effects."
   ]
  },
  {
   "cell_type": "code",
   "execution_count": 9,
   "metadata": {},
   "outputs": [
    {
     "data": {
      "text/plain": [
       "\n",
       "Call:\n",
       "glm(formula = target ~ as.factor(veh_age), family = poisson(), \n",
       "    data = dataCar)\n",
       "\n",
       "Deviance Residuals: \n",
       "   Min      1Q  Median      3Q     Max  \n",
       "-4.358  -4.104  -4.104  -3.892  56.092  \n",
       "\n",
       "Coefficients:\n",
       "                     Estimate Std. Error z value Pr(>|z|)    \n",
       "(Intercept)          2.121776   0.003600 589.438   <2e-16 ***\n",
       "as.factor(veh_age)2  0.129004   0.004598  28.056   <2e-16 ***\n",
       "as.factor(veh_age)3  0.008973   0.004563   1.967   0.0492 *  \n",
       "as.factor(veh_age)4 -0.096865   0.004711 -20.561   <2e-16 ***\n",
       "---\n",
       "Signif. codes:  0 '***' 0.001 '**' 0.01 '*' 0.05 '.' 0.1 ' ' 1\n",
       "\n",
       "(Dispersion parameter for poisson family taken to be 1)\n",
       "\n",
       "    Null deviance: 3127209  on 51513  degrees of freedom\n",
       "Residual deviance: 3124257  on 51510  degrees of freedom\n",
       "AIC: 3135355\n",
       "\n",
       "Number of Fisher Scoring iterations: 9\n"
      ]
     },
     "metadata": {},
     "output_type": "display_data"
    }
   ],
   "source": [
    "glm_model <- glm(target ~ as.factor(veh_age), data=dataCar, family=poisson())\n",
    "\n",
    "summary(glm_model)"
   ]
  },
  {
   "cell_type": "markdown",
   "metadata": {},
   "source": [
    "## Generalized Linear Mixed Effects Model (GLMM)\n",
    "\n",
    "As we can see from the histogram above, our target variable does not have a normal distribution but rather a Poisson distribution. This is commonly seen in insurance for claim count and severity. If our target variable had a Gaussian distribution, we could use a linear mixed effects model (LME) or a Nonlinear Mixed Effect Model (NLME). \n",
    "\n",
    "However in the case of other exponential family distributions, we will consider the Generalized Mixed Effect Model (GLMM) which has the form: $y=X\\beta + Z\\mu + \\epsilon$ where $X\\beta$ represents the fixed-effects predictors variables and their regression coefficients and $Z\\mu$ represents the random-effects variables and their complements to the regression coefficients. \n",
    "\n",
    "Because the GLMM does not have a closed-form solution, there are different approaches of maximum likelihood estimation (MLE) to determine the best model parameters. Here we will use Laplace approximate and control for the random effects of area."
   ]
  },
  {
   "cell_type": "code",
   "execution_count": 12,
   "metadata": {},
   "outputs": [
    {
     "data": {
      "text/plain": [
       "Generalized linear mixed model fit by maximum likelihood (Laplace\n",
       "  Approximation) [glmerMod]\n",
       " Family: poisson  ( log )\n",
       "Formula: target ~ as.factor(veh_age) + (1 | area)\n",
       "   Data: dataCar\n",
       "\n",
       "     AIC      BIC   logLik deviance df.resid \n",
       " 3132072  3132116 -1566031  3132062    51509 \n",
       "\n",
       "Scaled residuals: \n",
       "    Min      1Q  Median      3Q     Max \n",
       " -3.450  -2.997  -2.878  -2.758 181.202 \n",
       "\n",
       "Random effects:\n",
       " Groups Name        Variance Std.Dev.\n",
       " area   (Intercept) 0.01392  0.118   \n",
       "Number of obs: 51514, groups:  area, 4\n",
       "\n",
       "Fixed effects:\n",
       "                     Estimate Std. Error z value Pr(>|z|)    \n",
       "(Intercept)          2.168490   0.045591   47.56   <2e-16 ***\n",
       "as.factor(veh_age)2  0.129465   0.004588   28.22   <2e-16 ***\n",
       "as.factor(veh_age)3  0.005676   0.004551    1.25    0.212    \n",
       "as.factor(veh_age)4 -0.100774   0.004701  -21.44   <2e-16 ***\n",
       "---\n",
       "Signif. codes:  0 '***' 0.001 '**' 0.01 '*' 0.05 '.' 0.1 ' ' 1\n",
       "\n",
       "Correlation of Fixed Effects:\n",
       "            (Intr) a.(_)2 a.(_)3\n",
       "as.fctr(_)2 -0.038              \n",
       "as.fctr(_)3 -0.037  0.616       \n",
       "as.fctr(_)4 -0.036  0.597  0.601"
      ]
     },
     "metadata": {},
     "output_type": "display_data"
    }
   ],
   "source": [
    "library(Matrix)\n",
    "library(lme4)\n",
    "\n",
    "glmm_model <- glmer(target ~ as.factor(veh_age) + (1 | area), data=dataCar, family=poisson)\n",
    "\n",
    "summary(glmm_model)"
   ]
  },
  {
   "cell_type": "markdown",
   "metadata": {},
   "source": [
    "#### Model Comparison\n",
    "A lower deviance and Akaike Information Criterion (AIC) score in the second model indicates a stronger goodness-of-fit when modeling the random effects of area on vehicle age. AIC is asymptotically equivalent to, and a reasonable proxy for, leave-one-out cross validation. We can also see the standard errors for each level of vehicle age have slightly decreased with the mixed-effects model. Ultimately, using a mixed effects model allows us to better represent the direct relationship between vehicle age and claim cost."
   ]
  }
 ],
 "metadata": {
  "anaconda-cloud": {},
  "kernelspec": {
   "display_name": "R",
   "language": "R",
   "name": "ir"
  },
  "language_info": {
   "codemirror_mode": "r",
   "file_extension": ".r",
   "mimetype": "text/x-r-source",
   "name": "R",
   "pygments_lexer": "r",
   "version": "3.3.2"
  }
 },
 "nbformat": 4,
 "nbformat_minor": 2
}
