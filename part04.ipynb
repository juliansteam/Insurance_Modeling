{
 "cells": [
  {
   "cell_type": "markdown",
   "metadata": {},
   "source": [
    "# Part 4: Basic Machine Learning Models\n",
    "<b>Author</b>: Sterling Cutler\n",
    "<br>\n",
    "<b>Date</b>: March 23, 2018"
   ]
  },
  {
   "cell_type": "markdown",
   "metadata": {},
   "source": [
    "## Machine Learning\n",
    "There are many regulations in place that require insurance ratemaking models to be be interpretable and transparent enough to not conceal any bias against members in the same risk pool. While machine learning models are not frequently used for ratemaking directly, there are other ways insurance companies can use them internally to drive their customer engagement strategy. For simplicity, we'll continue to focus on our auto bodily injury loss data.\n",
    "\n",
    "Let's load our dataset and split it into training and test sets. The training set is for fitting a model and the test set is for making predictions and accessing the generalization error (how a model predicts outcomes against unseen data). When testing different models and comparing their results, it is common to also include a validation set of data for testing each model's prediction error."
   ]
  },
  {
   "cell_type": "code",
   "execution_count": 1,
   "metadata": {},
   "outputs": [
    {
     "name": "stdout",
     "output_type": "stream",
     "text": [
      "Train Data Shape: 1071 6 \n",
      "Test Data Shape: 268 6"
     ]
    }
   ],
   "source": [
    "# Load dataset\n",
    "df <- read.csv(\"ABI_data.csv\")\n",
    "\n",
    "# Split dataset into training and test sets\n",
    "train_ind <- sample(nrow(df), size=round(nrow(df)*0.8), replace=FALSE)\n",
    "x_train <- data.matrix(df[train_ind, 1:6])\n",
    "x_test <- data.matrix(df[-train_ind, 1:6])\n",
    "y_train <- df[train_ind, 7]\n",
    "y_test <- df[-train_ind, 7]\n",
    "\n",
    "# Print data shapes\n",
    "cat('Train Data Shape:', dim(x_train), \"\\n\")\n",
    "cat('Test Data Shape:', dim(x_test))"
   ]
  },
  {
   "cell_type": "markdown",
   "metadata": {},
   "source": [
    "## Lasso, Ridge, and ElasticNet Models\n",
    "\n",
    "#### work in progress"
   ]
  },
  {
   "cell_type": "code",
   "execution_count": 2,
   "metadata": {},
   "outputs": [],
   "source": [
    "suppressMessages(library(glmnet))\n",
    "\n",
    "# Fit Lasso, Ridge, and ElasticNet models\n",
    "lasso <- glmnet(x_train, y_train, family=\"gaussian\", alpha=1)\n",
    "ridge <- glmnet(x_train, y_train, family=\"gaussian\", alpha=0)\n",
    "enet <- glmnet(x_train, y_train, family=\"gaussian\", alpha=.5)"
   ]
  },
  {
   "cell_type": "code",
   "execution_count": 3,
   "metadata": {},
   "outputs": [],
   "source": [
    "# Perform cross-validation on different alphas\n",
    "lasso_cv <- cv.glmnet(x_train, y_train, type.measure=\"mse\", alpha=1, \n",
    "                          family=\"gaussian\")\n",
    "ridge_cv <- cv.glmnet(x_train, y_train, type.measure=\"mse\", alpha=0,\n",
    "                          family=\"gaussian\")\n",
    "enet_cv <- cv.glmnet(x_train, y_train, type.measure=\"mse\", alpha=.5,\n",
    "                          family=\"gaussian\")\n",
    "\n",
    "for (i in 0:10) {\n",
    "  assign(paste(\"fit\", i, sep=\"\"), cv.glmnet(x_train, y_train, type.measure=\"mse\", \n",
    "                                            alpha=i/10, family=\"gaussian\"))\n",
    "}"
   ]
  },
  {
   "cell_type": "code",
   "execution_count": 4,
   "metadata": {},
   "outputs": [
    {
     "data": {
      "image/png": "[encoded data removed]",
      "text/plain": [
       "Plot with title \"Elastic Net\""
      ]
     },
     "metadata": {},
     "output_type": "display_data"
    }
   ],
   "source": [
    "# Plot CV curves\n",
    "par(mfrow=c(3,2))\n",
    "plot(lasso, xvar=\"lambda\")\n",
    "plot(fit10, main=\"Lasso\")\n",
    "\n",
    "plot(ridge, xvar=\"lambda\")\n",
    "plot(fit0, main=\"Ridge\")\n",
    "\n",
    "plot(enet, xvar=\"lambda\")\n",
    "plot(fit5, main=\"Elastic Net\")"
   ]
  },
  {
   "cell_type": "markdown",
   "metadata": {},
   "source": [
    "#### Error Rate\n",
    "We can access how well our models perform by looking at the Root Mean Squared Error (RMSE) between the test outcomes and the model predictions. The formula for RMSE is:\n",
    "\n",
    "$RMSE = \\sqrt{\\Sigma^n_{i=1} (X_{obs,i} - X_{model,i})^2/n}$\n",
    "\n",
    "where $X_{obs}$ is the observed values, $X_{model}$ is modeled values, and $n$ is the number of observations."
   ]
  },
  {
   "cell_type": "code",
   "execution_count": 5,
   "metadata": {},
   "outputs": [
    {
     "data": {
      "text/html": [
       "'Lasso RMSE: 1.3165'"
      ],
      "text/latex": [
       "'Lasso RMSE: 1.3165'"
      ],
      "text/markdown": [
       "'Lasso RMSE: 1.3165'"
      ],
      "text/plain": [
       "[1] \"Lasso RMSE: 1.3165\""
      ]
     },
     "metadata": {},
     "output_type": "display_data"
    },
    {
     "data": {
      "text/html": [
       "'Ridge RMSE: 1.4273'"
      ],
      "text/latex": [
       "'Ridge RMSE: 1.4273'"
      ],
      "text/markdown": [
       "'Ridge RMSE: 1.4273'"
      ],
      "text/plain": [
       "[1] \"Ridge RMSE: 1.4273\""
      ]
     },
     "metadata": {},
     "output_type": "display_data"
    },
    {
     "data": {
      "text/html": [
       "'Elastic Net RMSE: 1.3221'"
      ],
      "text/latex": [
       "'Elastic Net RMSE: 1.3221'"
      ],
      "text/markdown": [
       "'Elastic Net RMSE: 1.3221'"
      ],
      "text/plain": [
       "[1] \"Elastic Net RMSE: 1.3221\""
      ]
     },
     "metadata": {},
     "output_type": "display_data"
    }
   ],
   "source": [
    "suppressWarnings(suppressMessages(library(Metrics)))\n",
    "\n",
    "# Make model predictions against test set\n",
    "lasso_preds <- predict(lasso, x_test)\n",
    "ridge_preds <- predict(ridge, x_test)\n",
    "enet_preds <- predict(enet, x_test)\n",
    "\n",
    "# Print RMSE values\n",
    "paste(\"Lasso RMSE:\", round(rmse(y_test, lasso_preds), 4))\n",
    "paste(\"Ridge RMSE:\", round(rmse(y_test, ridge_preds), 4))\n",
    "paste(\"Elastic Net RMSE:\", round(rmse(y_test, enet_preds), 4))"
   ]
  },
  {
   "cell_type": "markdown",
   "metadata": {},
   "source": [
    "## Support Vector Machine (SVM)\n",
    "\n",
    "#### work in progress"
   ]
  },
  {
   "cell_type": "code",
   "execution_count": 6,
   "metadata": {},
   "outputs": [
    {
     "data": {
      "text/plain": [
       "\n",
       "Call:\n",
       "svm(formula = TARGET ~ ., data = df, type = \"eps\", kernel = \"linear\")\n",
       "\n",
       "\n",
       "Parameters:\n",
       "   SVM-Type:  eps-regression \n",
       " SVM-Kernel:  linear \n",
       "       cost:  1 \n",
       "      gamma:  0.1666667 \n",
       "    epsilon:  0.1 \n",
       "\n",
       "\n",
       "Number of Support Vectors:  1181\n",
       "\n",
       "\n",
       "\n",
       "\n"
      ]
     },
     "metadata": {},
     "output_type": "display_data"
    }
   ],
   "source": [
    "library(e1071)\n",
    "\n",
    "# Fit linear regression SVM and print summary\n",
    "svm_model <- svm(TARGET ~ ., data=df, type='eps', kernel='linear')\n",
    "summary(svm_model)"
   ]
  },
  {
   "cell_type": "code",
   "execution_count": 7,
   "metadata": {},
   "outputs": [
    {
     "data": {
      "text/plain": [
       "\n",
       "Parameter tuning of 'svm':\n",
       "\n",
       "- sampling method: fixed training/validation set \n",
       "\n",
       "- best parameters:\n",
       " gamma cost\n",
       "   0.5    4\n",
       "\n",
       "- best performance: 1.686928 \n",
       "\n",
       "- Detailed performance results:\n",
       "  gamma cost    error dispersion\n",
       "1   0.5    4 1.686928         NA\n",
       "2   1.0    4 1.725708         NA\n",
       "3   2.0    4 1.738445         NA\n",
       "4   0.5    8 1.749010         NA\n",
       "5   1.0    8 1.754758         NA\n",
       "6   2.0    8 1.814011         NA\n",
       "7   0.5   16 1.828747         NA\n",
       "8   1.0   16 1.837074         NA\n",
       "9   2.0   16 1.929779         NA\n"
      ]
     },
     "metadata": {},
     "output_type": "display_data"
    }
   ],
   "source": [
    "# Tune model parameters with grid-search\n",
    "svm_tune <- tune('svm', x_train, y_train, ranges = list(gamma = 2^(-1:1), cost = 2^(2:4)),\n",
    "              tunecontrol = tune.control(sampling = \"fix\"))\n",
    "\n",
    "summary(svm_tune)"
   ]
  },
  {
   "cell_type": "code",
   "execution_count": 8,
   "metadata": {},
   "outputs": [],
   "source": [
    "# Uncomment to plot tuning grid\n",
    "# plot(svm_tune)"
   ]
  },
  {
   "cell_type": "code",
   "execution_count": 9,
   "metadata": {},
   "outputs": [
    {
     "data": {
      "text/html": [
       "'SVM RMSE: 1.3641'"
      ],
      "text/latex": [
       "'SVM RMSE: 1.3641'"
      ],
      "text/markdown": [
       "'SVM RMSE: 1.3641'"
      ],
      "text/plain": [
       "[1] \"SVM RMSE: 1.3641\""
      ]
     },
     "metadata": {},
     "output_type": "display_data"
    }
   ],
   "source": [
    "# Make model predictions against test set\n",
    "svm <- svm(x_train, y_train, cost=4.0, gamma=2.0)\n",
    "svm_preds <- predict(svm, x_test)\n",
    "paste(\"SVM RMSE:\", round(rmse(y_test, svm_preds), 4))"
   ]
  },
  {
   "cell_type": "markdown",
   "metadata": {},
   "source": [
    "## Decision Tree Model\n",
    "\n",
    "#### work in progress"
   ]
  },
  {
   "cell_type": "code",
   "execution_count": 10,
   "metadata": {},
   "outputs": [
    {
     "name": "stdout",
     "output_type": "stream",
     "text": [
      "Call:\n",
      "rpart(formula = TARGET ~ ., data = df, method = \"anova\", control = cntrl)\n",
      "  n= 1339 \n",
      "\n",
      "          CP nsplit rel error    xerror       xstd\n",
      "1 0.23097930      0 1.0000000 1.0028106 0.04503914\n",
      "2 0.06746930      1 0.7690207 0.7720079 0.03630326\n",
      "3 0.01755805      2 0.7015514 0.7091210 0.03268108\n",
      "4 0.01000000      3 0.6839933 0.6948136 0.03215533\n",
      "\n",
      "Variable importance\n",
      "   ATTORNEY NORM_CLMAGE      CLMSEX \n",
      "         69          27           4 \n",
      "\n",
      "Node number 1: 1339 observations,    complexity param=0.2309793\n",
      "  mean=0.5519552, MSE=2.155151 \n",
      "  left son=2 (655 obs) right son=3 (684 obs)\n",
      "  Primary splits:\n",
      "      ATTORNEY    < 1.5      to the right, improve=0.230979300, (0 missing)\n",
      "      NORM_CLMAGE < -1.18739 to the left,  improve=0.070969290, (0 missing)\n",
      "      MARITAL     < 1.5      to the right, improve=0.017497220, (0 missing)\n",
      "      SEATBELT    < 1.5      to the left,  improve=0.012211220, (0 missing)\n",
      "      CLMINSUR    < 1.5      to the right, improve=0.001072072, (0 missing)\n",
      "  Surrogate splits:\n",
      "      CLMSEX      < 1.5      to the right, agree=0.537, adj=0.053, (0 split)\n",
      "      NORM_CLMAGE < 1.273858 to the right, agree=0.521, adj=0.021, (0 split)\n",
      "      CLMINSUR    < 1.5      to the right, agree=0.513, adj=0.005, (0 split)\n",
      "\n",
      "Node number 2: 655 observations,    complexity param=0.01755805\n",
      "  mean=-0.1690407, MSE=1.817643 \n",
      "  left son=4 (53 obs) right son=5 (602 obs)\n",
      "  Primary splits:\n",
      "      NORM_CLMAGE < -1.18739 to the left,  improve=4.255835e-02, (0 missing)\n",
      "      MARITAL     < 1.5      to the right, improve=1.089819e-02, (0 missing)\n",
      "      CLMSEX      < 1.5      to the left,  improve=9.947523e-04, (0 missing)\n",
      "      CLMINSUR    < 1.5      to the right, improve=9.595508e-05, (0 missing)\n",
      "\n",
      "Node number 3: 684 observations,    complexity param=0.0674693\n",
      "  mean=1.242383, MSE=1.503864 \n",
      "  left son=6 (68 obs) right son=7 (616 obs)\n",
      "  Primary splits:\n",
      "      NORM_CLMAGE < -1.18739 to the left,  improve=1.892778e-01, (0 missing)\n",
      "      MARITAL     < 1.5      to the right, improve=3.901783e-02, (0 missing)\n",
      "      SEATBELT    < 1.5      to the left,  improve=1.196322e-02, (0 missing)\n",
      "      CLMINSUR    < 1.5      to the left,  improve=2.952929e-04, (0 missing)\n",
      "      CLMSEX      < 1.5      to the left,  improve=1.995382e-05, (0 missing)\n",
      "\n",
      "Node number 4: 53 observations\n",
      "  mean=-1.106402, MSE=1.354301 \n",
      "\n",
      "Node number 5: 602 observations\n",
      "  mean=-0.08651556, MSE=1.77427 \n",
      "\n",
      "Node number 6: 68 observations\n",
      "  mean=-0.3634124, MSE=2.160793 \n",
      "\n",
      "Node number 7: 616 observations\n",
      "  mean=1.419646, MSE=1.115276 \n",
      "\n"
     ]
    }
   ],
   "source": [
    "library(rpart)\n",
    "\n",
    "# Fit regression tree to data\n",
    "cntrl <- rpart.control(maxdepth = 10)\n",
    "dtree <- rpart(TARGET ~ ., data=df, method=\"anova\", control = cntrl)\n",
    "summary(dtree)"
   ]
  },
  {
   "cell_type": "code",
   "execution_count": 11,
   "metadata": {},
   "outputs": [
    {
     "name": "stdout",
     "output_type": "stream",
     "text": [
      "n= 1339 \n",
      "\n",
      "node), split, n, deviance, yval\n",
      "      * denotes terminal node\n",
      "\n",
      "1) root 1339 2885.74800  0.55195520  \n",
      "  2) ATTORNEY>=1.5 655 1190.55600 -0.16904070  \n",
      "    4) NORM_CLMAGE< -1.18739 53   71.77796 -1.10640200 *\n",
      "    5) NORM_CLMAGE>=-1.18739 602 1068.11000 -0.08651556 *\n",
      "  3) ATTORNEY< 1.5 684 1028.64300  1.24238300  \n",
      "    6) NORM_CLMAGE< -1.18739 68  146.93390 -0.36341240 *\n",
      "    7) NORM_CLMAGE>=-1.18739 616  687.01000  1.41964600 *\n"
     ]
    }
   ],
   "source": [
    "# Print tree structure\n",
    "print(dtree)"
   ]
  },
  {
   "cell_type": "code",
   "execution_count": 12,
   "metadata": {},
   "outputs": [],
   "source": [
    "# Uncomment lines below to plot tree structure\n",
    "# plot(dtree)\n",
    "# text(dtree)\n",
    "\n",
    "# Uncomment lines below to plot root node error\n",
    "# par(mfrow=c(2, 1))\n",
    "# rsq.rpart(dtree)"
   ]
  },
  {
   "cell_type": "code",
   "execution_count": 13,
   "metadata": {},
   "outputs": [
    {
     "data": {
      "text/html": [
       "'Decision Tree RMSE: 1.2487'"
      ],
      "text/latex": [
       "'Decision Tree RMSE: 1.2487'"
      ],
      "text/markdown": [
       "'Decision Tree RMSE: 1.2487'"
      ],
      "text/plain": [
       "[1] \"Decision Tree RMSE: 1.2487\""
      ]
     },
     "metadata": {},
     "output_type": "display_data"
    }
   ],
   "source": [
    "# Make model predictions against test set\n",
    "dtree_preds <- predict(dtree, data.frame(x_test))\n",
    "paste(\"Decision Tree RMSE:\", round(rmse(y_test, dtree_preds), 4))"
   ]
  },
  {
   "cell_type": "markdown",
   "metadata": {},
   "source": [
    "## Sources\n"
   ]
  }
 ],
 "metadata": {
  "kernelspec": {
   "display_name": "R",
   "language": "R",
   "name": "ir"
  },
  "language_info": {
   "codemirror_mode": "r",
   "file_extension": ".r",
   "mimetype": "text/x-r-source",
   "name": "R",
   "pygments_lexer": "r",
   "version": "3.3.2"
  }
 },
 "nbformat": 4,
 "nbformat_minor": 2
}
